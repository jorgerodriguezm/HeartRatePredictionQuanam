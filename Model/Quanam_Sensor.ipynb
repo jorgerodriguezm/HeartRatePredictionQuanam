{
  "nbformat": 4,
  "nbformat_minor": 0,
  "metadata": {
    "colab": {
      "name": "Quanam_Sensor.ipynb",
      "provenance": [],
      "collapsed_sections": []
    },
    "kernelspec": {
      "name": "python3",
      "display_name": "Python 3"
    },
    "language_info": {
      "name": "python"
    }
  },
  "cells": [
    {
      "cell_type": "code",
      "metadata": {
        "id": "2FXxqnBK9tPu"
      },
      "source": [
        "import numpy as np\n",
        "import pandas as pd\n",
        "import matplotlib.pyplot as plt\n",
        "import seaborn as sns\n",
        "from sklearn import datasets\n",
        "from sklearn.feature_selection import RFE\n",
        "from sklearn.model_selection import train_test_split\n",
        "from sklearn.model_selection import cross_val_score\n",
        "from sklearn.model_selection import KFold\n",
        "from sklearn.pipeline import Pipeline\n",
        "from sklearn.preprocessing import StandardScaler,MinMaxScaler"
      ],
      "execution_count": null,
      "outputs": []
    },
    {
      "cell_type": "code",
      "metadata": {
        "colab": {
          "base_uri": "https://localhost:8080/",
          "height": 206
        },
        "id": "-eMo81_G99Ew",
        "outputId": "2141c7e8-ec3a-4c5b-d601-50ebce79db10"
      },
      "source": [
        "data=pd.read_csv('/content/drive/MyDrive/IBM/data_sensor.csv')\n",
        "data.head()"
      ],
      "execution_count": null,
      "outputs": [
        {
          "output_type": "execute_result",
          "data": {
            "text/html": [
              "<div>\n",
              "<style scoped>\n",
              "    .dataframe tbody tr th:only-of-type {\n",
              "        vertical-align: middle;\n",
              "    }\n",
              "\n",
              "    .dataframe tbody tr th {\n",
              "        vertical-align: top;\n",
              "    }\n",
              "\n",
              "    .dataframe thead th {\n",
              "        text-align: right;\n",
              "    }\n",
              "</style>\n",
              "<table border=\"1\" class=\"dataframe\">\n",
              "  <thead>\n",
              "    <tr style=\"text-align: right;\">\n",
              "      <th></th>\n",
              "      <th>ILLUM</th>\n",
              "      <th>HUMID</th>\n",
              "      <th>CO2</th>\n",
              "      <th>SOUND</th>\n",
              "      <th>TEMP</th>\n",
              "      <th>RYTHM</th>\n",
              "      <th>ID</th>\n",
              "    </tr>\n",
              "  </thead>\n",
              "  <tbody>\n",
              "    <tr>\n",
              "      <th>0</th>\n",
              "      <td>467.90</td>\n",
              "      <td>65.59</td>\n",
              "      <td>486.10</td>\n",
              "      <td>41.06</td>\n",
              "      <td>23.27</td>\n",
              "      <td>92.39</td>\n",
              "      <td>1</td>\n",
              "    </tr>\n",
              "    <tr>\n",
              "      <th>1</th>\n",
              "      <td>387.14</td>\n",
              "      <td>70.23</td>\n",
              "      <td>501.81</td>\n",
              "      <td>25.93</td>\n",
              "      <td>18.77</td>\n",
              "      <td>85.17</td>\n",
              "      <td>2</td>\n",
              "    </tr>\n",
              "    <tr>\n",
              "      <th>2</th>\n",
              "      <td>339.75</td>\n",
              "      <td>74.72</td>\n",
              "      <td>535.88</td>\n",
              "      <td>30.50</td>\n",
              "      <td>19.41</td>\n",
              "      <td>80.76</td>\n",
              "      <td>3</td>\n",
              "    </tr>\n",
              "    <tr>\n",
              "      <th>3</th>\n",
              "      <td>390.19</td>\n",
              "      <td>63.83</td>\n",
              "      <td>422.76</td>\n",
              "      <td>24.18</td>\n",
              "      <td>17.41</td>\n",
              "      <td>63.55</td>\n",
              "      <td>4</td>\n",
              "    </tr>\n",
              "    <tr>\n",
              "      <th>4</th>\n",
              "      <td>454.11</td>\n",
              "      <td>70.64</td>\n",
              "      <td>619.85</td>\n",
              "      <td>16.50</td>\n",
              "      <td>20.31</td>\n",
              "      <td>83.19</td>\n",
              "      <td>5</td>\n",
              "    </tr>\n",
              "  </tbody>\n",
              "</table>\n",
              "</div>"
            ],
            "text/plain": [
              "    ILLUM  HUMID     CO2  SOUND   TEMP  RYTHM  ID\n",
              "0  467.90  65.59  486.10  41.06  23.27  92.39   1\n",
              "1  387.14  70.23  501.81  25.93  18.77  85.17   2\n",
              "2  339.75  74.72  535.88  30.50  19.41  80.76   3\n",
              "3  390.19  63.83  422.76  24.18  17.41  63.55   4\n",
              "4  454.11  70.64  619.85  16.50  20.31  83.19   5"
            ]
          },
          "metadata": {},
          "execution_count": 113
        }
      ]
    },
    {
      "cell_type": "code",
      "metadata": {
        "colab": {
          "base_uri": "https://localhost:8080/",
          "height": 206
        },
        "id": "0fR5rESA_q0w",
        "outputId": "5d75291f-5473-4d3e-d8ed-3e45784d5f90"
      },
      "source": [
        "data=data.drop(columns=\"ID\")\n",
        "data.head()"
      ],
      "execution_count": null,
      "outputs": [
        {
          "output_type": "execute_result",
          "data": {
            "text/html": [
              "<div>\n",
              "<style scoped>\n",
              "    .dataframe tbody tr th:only-of-type {\n",
              "        vertical-align: middle;\n",
              "    }\n",
              "\n",
              "    .dataframe tbody tr th {\n",
              "        vertical-align: top;\n",
              "    }\n",
              "\n",
              "    .dataframe thead th {\n",
              "        text-align: right;\n",
              "    }\n",
              "</style>\n",
              "<table border=\"1\" class=\"dataframe\">\n",
              "  <thead>\n",
              "    <tr style=\"text-align: right;\">\n",
              "      <th></th>\n",
              "      <th>ILLUM</th>\n",
              "      <th>HUMID</th>\n",
              "      <th>CO2</th>\n",
              "      <th>SOUND</th>\n",
              "      <th>TEMP</th>\n",
              "      <th>RYTHM</th>\n",
              "    </tr>\n",
              "  </thead>\n",
              "  <tbody>\n",
              "    <tr>\n",
              "      <th>0</th>\n",
              "      <td>467.90</td>\n",
              "      <td>65.59</td>\n",
              "      <td>486.10</td>\n",
              "      <td>41.06</td>\n",
              "      <td>23.27</td>\n",
              "      <td>92.39</td>\n",
              "    </tr>\n",
              "    <tr>\n",
              "      <th>1</th>\n",
              "      <td>387.14</td>\n",
              "      <td>70.23</td>\n",
              "      <td>501.81</td>\n",
              "      <td>25.93</td>\n",
              "      <td>18.77</td>\n",
              "      <td>85.17</td>\n",
              "    </tr>\n",
              "    <tr>\n",
              "      <th>2</th>\n",
              "      <td>339.75</td>\n",
              "      <td>74.72</td>\n",
              "      <td>535.88</td>\n",
              "      <td>30.50</td>\n",
              "      <td>19.41</td>\n",
              "      <td>80.76</td>\n",
              "    </tr>\n",
              "    <tr>\n",
              "      <th>3</th>\n",
              "      <td>390.19</td>\n",
              "      <td>63.83</td>\n",
              "      <td>422.76</td>\n",
              "      <td>24.18</td>\n",
              "      <td>17.41</td>\n",
              "      <td>63.55</td>\n",
              "    </tr>\n",
              "    <tr>\n",
              "      <th>4</th>\n",
              "      <td>454.11</td>\n",
              "      <td>70.64</td>\n",
              "      <td>619.85</td>\n",
              "      <td>16.50</td>\n",
              "      <td>20.31</td>\n",
              "      <td>83.19</td>\n",
              "    </tr>\n",
              "  </tbody>\n",
              "</table>\n",
              "</div>"
            ],
            "text/plain": [
              "    ILLUM  HUMID     CO2  SOUND   TEMP  RYTHM\n",
              "0  467.90  65.59  486.10  41.06  23.27  92.39\n",
              "1  387.14  70.23  501.81  25.93  18.77  85.17\n",
              "2  339.75  74.72  535.88  30.50  19.41  80.76\n",
              "3  390.19  63.83  422.76  24.18  17.41  63.55\n",
              "4  454.11  70.64  619.85  16.50  20.31  83.19"
            ]
          },
          "metadata": {},
          "execution_count": 114
        }
      ]
    },
    {
      "cell_type": "code",
      "metadata": {
        "colab": {
          "base_uri": "https://localhost:8080/",
          "height": 302
        },
        "id": "uDeEgtuYA5QW",
        "outputId": "66983edf-d5d6-4b23-febf-fb0915894ba5"
      },
      "source": [
        "#Data normally distributed\n",
        "sns.histplot(data=data,x=\"SOUND\")"
      ],
      "execution_count": null,
      "outputs": [
        {
          "output_type": "execute_result",
          "data": {
            "text/plain": [
              "<matplotlib.axes._subplots.AxesSubplot at 0x7f947c198650>"
            ]
          },
          "metadata": {},
          "execution_count": 115
        },
        {
          "output_type": "display_data",
          "data": {
            "image/png": "[encoded data removed]",
            "text/plain": [
              "<Figure size 432x288 with 1 Axes>"
            ]
          },
          "metadata": {}
        }
      ]
    },
    {
      "cell_type": "code",
      "metadata": {
        "colab": {
          "base_uri": "https://localhost:8080/",
          "height": 302
        },
        "id": "uxuOeNYjF3uz",
        "outputId": "e508ef09-0565-49ae-90e0-629677e434e1"
      },
      "source": [
        "sns.regplot(data=data.sample(2000),x=\"SOUND\", y=\"RYTHM\")"
      ],
      "execution_count": null,
      "outputs": [
        {
          "output_type": "execute_result",
          "data": {
            "text/plain": [
              "<matplotlib.axes._subplots.AxesSubplot at 0x7f947c08ea50>"
            ]
          },
          "metadata": {},
          "execution_count": 116
        },
        {
          "output_type": "display_data",
          "data": {
            "image/png": "[encoded data removed]",
            "text/plain": [
              "<Figure size 432x288 with 1 Axes>"
            ]
          },
          "metadata": {}
        }
      ]
    },
    {
      "cell_type": "code",
      "metadata": {
        "colab": {
          "base_uri": "https://localhost:8080/",
          "height": 302
        },
        "id": "FTeJ_xqzGICL",
        "outputId": "62a647d3-6db2-4fc9-dee3-7dfc9282194a"
      },
      "source": [
        "sns.regplot(data=data.sample(2000),x=\"TEMP\", y=\"RYTHM\")"
      ],
      "execution_count": null,
      "outputs": [
        {
          "output_type": "execute_result",
          "data": {
            "text/plain": [
              "<matplotlib.axes._subplots.AxesSubplot at 0x7f947c0b1610>"
            ]
          },
          "metadata": {},
          "execution_count": 117
        },
        {
          "output_type": "display_data",
          "data": {
            "image/png": "[encoded data removed]",
            "text/plain": [
              "<Figure size 432x288 with 1 Axes>"
            ]
          },
          "metadata": {}
        }
      ]
    },
    {
      "cell_type": "code",
      "metadata": {
        "colab": {
          "base_uri": "https://localhost:8080/",
          "height": 296
        },
        "id": "0x_5cSKHGolE",
        "outputId": "ec02a1d6-253c-4faf-89a3-aa79e1bd3dc8"
      },
      "source": [
        "sns.regplot(data=data.sample(2000),x=\"CO2\", y=\"RYTHM\")"
      ],
      "execution_count": null,
      "outputs": [
        {
          "output_type": "execute_result",
          "data": {
            "text/plain": [
              "<matplotlib.axes._subplots.AxesSubplot at 0x7f94897552d0>"
            ]
          },
          "metadata": {},
          "execution_count": 7
        },
        {
          "output_type": "display_data",
          "data": {
            "image/png": "[encoded data removed]",
            "text/plain": [
              "<Figure size 432x288 with 1 Axes>"
            ]
          },
          "metadata": {
            "needs_background": "light"
          }
        }
      ]
    },
    {
      "cell_type": "code",
      "metadata": {
        "colab": {
          "base_uri": "https://localhost:8080/",
          "height": 302
        },
        "id": "eYJVJCdlGt_C",
        "outputId": "d668f064-a8aa-428e-988d-72374c9ad264"
      },
      "source": [
        "sns.regplot(data=data.sample(2000),x=\"HUMID\", y=\"RYTHM\")"
      ],
      "execution_count": null,
      "outputs": [
        {
          "output_type": "execute_result",
          "data": {
            "text/plain": [
              "<matplotlib.axes._subplots.AxesSubplot at 0x7f947bfd0d50>"
            ]
          },
          "metadata": {},
          "execution_count": 118
        },
        {
          "output_type": "display_data",
          "data": {
            "image/png": "[encoded data removed]",
            "text/plain": [
              "<Figure size 432x288 with 1 Axes>"
            ]
          },
          "metadata": {}
        }
      ]
    },
    {
      "cell_type": "code",
      "metadata": {
        "colab": {
          "base_uri": "https://localhost:8080/",
          "height": 302
        },
        "id": "MlocPb5GGv4q",
        "outputId": "14946c12-6aec-4446-d29a-5427046681f0"
      },
      "source": [
        "sns.regplot(data=data.sample(2000),x=\"ILLUM\", y=\"RYTHM\")"
      ],
      "execution_count": null,
      "outputs": [
        {
          "output_type": "execute_result",
          "data": {
            "text/plain": [
              "<matplotlib.axes._subplots.AxesSubplot at 0x7f947bf97790>"
            ]
          },
          "metadata": {},
          "execution_count": 119
        },
        {
          "output_type": "display_data",
          "data": {
            "image/png": "[encoded data removed]",
            "text/plain": [
              "<Figure size 432x288 with 1 Axes>"
            ]
          },
          "metadata": {}
        }
      ]
    },
    {
      "cell_type": "code",
      "metadata": {
        "colab": {
          "base_uri": "https://localhost:8080/",
          "height": 303
        },
        "id": "oYr5mVCzG56M",
        "outputId": "567a93b7-7ce0-490b-e74a-3320f0063ff4"
      },
      "source": [
        "sns.kdeplot(data=data,x=\"RYTHM\")"
      ],
      "execution_count": null,
      "outputs": [
        {
          "output_type": "execute_result",
          "data": {
            "text/plain": [
              "<matplotlib.axes._subplots.AxesSubplot at 0x7f947c148390>"
            ]
          },
          "metadata": {},
          "execution_count": 120
        },
        {
          "output_type": "display_data",
          "data": {
            "image/png": "[encoded data removed]",
            "text/plain": [
              "<Figure size 432x288 with 1 Axes>"
            ]
          },
          "metadata": {}
        }
      ]
    },
    {
      "cell_type": "code",
      "metadata": {
        "colab": {
          "base_uri": "https://localhost:8080/",
          "height": 300
        },
        "id": "nWKbnJPneM9L",
        "outputId": "3a1d42eb-6026-4446-d066-7f2390e29ddc"
      },
      "source": [
        "data.describe()"
      ],
      "execution_count": null,
      "outputs": [
        {
          "output_type": "execute_result",
          "data": {
            "text/html": [
              "<div>\n",
              "<style scoped>\n",
              "    .dataframe tbody tr th:only-of-type {\n",
              "        vertical-align: middle;\n",
              "    }\n",
              "\n",
              "    .dataframe tbody tr th {\n",
              "        vertical-align: top;\n",
              "    }\n",
              "\n",
              "    .dataframe thead th {\n",
              "        text-align: right;\n",
              "    }\n",
              "</style>\n",
              "<table border=\"1\" class=\"dataframe\">\n",
              "  <thead>\n",
              "    <tr style=\"text-align: right;\">\n",
              "      <th></th>\n",
              "      <th>ILLUM</th>\n",
              "      <th>HUMID</th>\n",
              "      <th>CO2</th>\n",
              "      <th>SOUND</th>\n",
              "      <th>TEMP</th>\n",
              "      <th>RYTHM</th>\n",
              "    </tr>\n",
              "  </thead>\n",
              "  <tbody>\n",
              "    <tr>\n",
              "      <th>count</th>\n",
              "      <td>3200.000000</td>\n",
              "      <td>3200.000000</td>\n",
              "      <td>3200.000000</td>\n",
              "      <td>3200.000000</td>\n",
              "      <td>3200.000000</td>\n",
              "      <td>3200.000000</td>\n",
              "    </tr>\n",
              "    <tr>\n",
              "      <th>mean</th>\n",
              "      <td>439.163412</td>\n",
              "      <td>67.086106</td>\n",
              "      <td>501.620666</td>\n",
              "      <td>29.840194</td>\n",
              "      <td>20.042578</td>\n",
              "      <td>80.156616</td>\n",
              "    </tr>\n",
              "    <tr>\n",
              "      <th>std</th>\n",
              "      <td>89.915142</td>\n",
              "      <td>4.776214</td>\n",
              "      <td>42.951183</td>\n",
              "      <td>6.158710</td>\n",
              "      <td>1.648479</td>\n",
              "      <td>6.755854</td>\n",
              "    </tr>\n",
              "    <tr>\n",
              "      <th>min</th>\n",
              "      <td>145.480000</td>\n",
              "      <td>51.860000</td>\n",
              "      <td>352.820000</td>\n",
              "      <td>8.060000</td>\n",
              "      <td>14.760000</td>\n",
              "      <td>55.370000</td>\n",
              "    </tr>\n",
              "    <tr>\n",
              "      <th>25%</th>\n",
              "      <td>377.060000</td>\n",
              "      <td>63.770000</td>\n",
              "      <td>471.427500</td>\n",
              "      <td>25.550000</td>\n",
              "      <td>18.920000</td>\n",
              "      <td>75.657500</td>\n",
              "    </tr>\n",
              "    <tr>\n",
              "      <th>50%</th>\n",
              "      <td>437.375000</td>\n",
              "      <td>66.935000</td>\n",
              "      <td>502.350000</td>\n",
              "      <td>29.885000</td>\n",
              "      <td>20.050000</td>\n",
              "      <td>80.220000</td>\n",
              "    </tr>\n",
              "    <tr>\n",
              "      <th>75%</th>\n",
              "      <td>500.792500</td>\n",
              "      <td>70.330000</td>\n",
              "      <td>530.142500</td>\n",
              "      <td>33.932500</td>\n",
              "      <td>21.180000</td>\n",
              "      <td>84.660000</td>\n",
              "    </tr>\n",
              "    <tr>\n",
              "      <th>max</th>\n",
              "      <td>775.140000</td>\n",
              "      <td>83.900000</td>\n",
              "      <td>672.380000</td>\n",
              "      <td>53.780000</td>\n",
              "      <td>26.290000</td>\n",
              "      <td>108.900000</td>\n",
              "    </tr>\n",
              "  </tbody>\n",
              "</table>\n",
              "</div>"
            ],
            "text/plain": [
              "             ILLUM        HUMID  ...         TEMP        RYTHM\n",
              "count  3200.000000  3200.000000  ...  3200.000000  3200.000000\n",
              "mean    439.163412    67.086106  ...    20.042578    80.156616\n",
              "std      89.915142     4.776214  ...     1.648479     6.755854\n",
              "min     145.480000    51.860000  ...    14.760000    55.370000\n",
              "25%     377.060000    63.770000  ...    18.920000    75.657500\n",
              "50%     437.375000    66.935000  ...    20.050000    80.220000\n",
              "75%     500.792500    70.330000  ...    21.180000    84.660000\n",
              "max     775.140000    83.900000  ...    26.290000   108.900000\n",
              "\n",
              "[8 rows x 6 columns]"
            ]
          },
          "metadata": {},
          "execution_count": 121
        }
      ]
    },
    {
      "cell_type": "code",
      "metadata": {
        "colab": {
          "base_uri": "https://localhost:8080/",
          "height": 266
        },
        "id": "CFKLtu_gedin",
        "outputId": "7c1bc8f3-6ff3-4911-ba12-3999f8662b35"
      },
      "source": [
        "sns.set_theme(style=\"darkgrid\")\n",
        "sns.boxplot(data=data,y=\"HUMID\")"
      ],
      "execution_count": null,
      "outputs": [
        {
          "output_type": "execute_result",
          "data": {
            "text/plain": [
              "<matplotlib.axes._subplots.AxesSubplot at 0x7f947be41e90>"
            ]
          },
          "metadata": {},
          "execution_count": 122
        },
        {
          "output_type": "display_data",
          "data": {
            "image/png": "[encoded data removed]",
            "text/plain": [
              "<Figure size 432x288 with 1 Axes>"
            ]
          },
          "metadata": {}
        }
      ]
    },
    {
      "cell_type": "code",
      "metadata": {
        "id": "sbL0Z6JNl0vI"
      },
      "source": [
        "# Remover Outliers...no se encontro mayor beneficio\n",
        "#def outliers(df,ft):\n",
        "#  Q1=df[ft].quantile(0.25)\n",
        "#  Q3=df[ft].quantile(0.75)\n",
        " # IQR=Q3-Q1\n",
        "\n",
        "#  lowerB=Q1 - 1.5 * IQR\n",
        "#  upperB=Q3 + 1.5 * IQR\n",
        "#\n",
        "#  ls=df.index[(df[ft] < lowerB) | (df[ft] > upperB)]\n",
        "#  return ls"
      ],
      "execution_count": null,
      "outputs": []
    },
    {
      "cell_type": "code",
      "metadata": {
        "id": "U0x1JUYznLw8"
      },
      "source": [
        "#index_list=[]\n",
        "#for feature in ['ILLUM', 'HUMID', 'CO2', 'SOUND', 'TEMP']:\n",
        "#  index_list.extend(outliers(data,feature))"
      ],
      "execution_count": null,
      "outputs": []
    },
    {
      "cell_type": "code",
      "metadata": {
        "id": "y_Smkd3Sn23t"
      },
      "source": [
        "#def remove(df,ls):\n",
        "#  ls = sorted(set(ls))\n",
        "#  df = df.drop(ls)\n",
        "#  return df"
      ],
      "execution_count": null,
      "outputs": []
    },
    {
      "cell_type": "code",
      "metadata": {
        "id": "Abybi8SIoIMr"
      },
      "source": [
        "#data_clean = remove(data,index_list)"
      ],
      "execution_count": null,
      "outputs": []
    },
    {
      "cell_type": "code",
      "metadata": {
        "colab": {
          "base_uri": "https://localhost:8080/",
          "height": 238
        },
        "id": "oGRTZXak_vv4",
        "outputId": "f2d4aa23-5de0-4c59-c887-e95f2f52ab53"
      },
      "source": [
        "corr=data.corr()\n",
        "corr"
      ],
      "execution_count": null,
      "outputs": [
        {
          "output_type": "execute_result",
          "data": {
            "text/html": [
              "<div>\n",
              "<style scoped>\n",
              "    .dataframe tbody tr th:only-of-type {\n",
              "        vertical-align: middle;\n",
              "    }\n",
              "\n",
              "    .dataframe tbody tr th {\n",
              "        vertical-align: top;\n",
              "    }\n",
              "\n",
              "    .dataframe thead th {\n",
              "        text-align: right;\n",
              "    }\n",
              "</style>\n",
              "<table border=\"1\" class=\"dataframe\">\n",
              "  <thead>\n",
              "    <tr style=\"text-align: right;\">\n",
              "      <th></th>\n",
              "      <th>ILLUM</th>\n",
              "      <th>HUMID</th>\n",
              "      <th>CO2</th>\n",
              "      <th>SOUND</th>\n",
              "      <th>TEMP</th>\n",
              "      <th>RYTHM</th>\n",
              "    </tr>\n",
              "  </thead>\n",
              "  <tbody>\n",
              "    <tr>\n",
              "      <th>ILLUM</th>\n",
              "      <td>1.000000</td>\n",
              "      <td>0.043146</td>\n",
              "      <td>-0.161856</td>\n",
              "      <td>0.053017</td>\n",
              "      <td>-0.110735</td>\n",
              "      <td>0.044763</td>\n",
              "    </tr>\n",
              "    <tr>\n",
              "      <th>HUMID</th>\n",
              "      <td>0.043146</td>\n",
              "      <td>1.000000</td>\n",
              "      <td>0.180879</td>\n",
              "      <td>-0.279335</td>\n",
              "      <td>-0.156514</td>\n",
              "      <td>-0.023406</td>\n",
              "    </tr>\n",
              "    <tr>\n",
              "      <th>CO2</th>\n",
              "      <td>-0.161856</td>\n",
              "      <td>0.180879</td>\n",
              "      <td>1.000000</td>\n",
              "      <td>-0.055331</td>\n",
              "      <td>-0.056144</td>\n",
              "      <td>0.275289</td>\n",
              "    </tr>\n",
              "    <tr>\n",
              "      <th>SOUND</th>\n",
              "      <td>0.053017</td>\n",
              "      <td>-0.279335</td>\n",
              "      <td>-0.055331</td>\n",
              "      <td>1.000000</td>\n",
              "      <td>-0.047159</td>\n",
              "      <td>0.167734</td>\n",
              "    </tr>\n",
              "    <tr>\n",
              "      <th>TEMP</th>\n",
              "      <td>-0.110735</td>\n",
              "      <td>-0.156514</td>\n",
              "      <td>-0.056144</td>\n",
              "      <td>-0.047159</td>\n",
              "      <td>1.000000</td>\n",
              "      <td>0.249845</td>\n",
              "    </tr>\n",
              "    <tr>\n",
              "      <th>RYTHM</th>\n",
              "      <td>0.044763</td>\n",
              "      <td>-0.023406</td>\n",
              "      <td>0.275289</td>\n",
              "      <td>0.167734</td>\n",
              "      <td>0.249845</td>\n",
              "      <td>1.000000</td>\n",
              "    </tr>\n",
              "  </tbody>\n",
              "</table>\n",
              "</div>"
            ],
            "text/plain": [
              "          ILLUM     HUMID       CO2     SOUND      TEMP     RYTHM\n",
              "ILLUM  1.000000  0.043146 -0.161856  0.053017 -0.110735  0.044763\n",
              "HUMID  0.043146  1.000000  0.180879 -0.279335 -0.156514 -0.023406\n",
              "CO2   -0.161856  0.180879  1.000000 -0.055331 -0.056144  0.275289\n",
              "SOUND  0.053017 -0.279335 -0.055331  1.000000 -0.047159  0.167734\n",
              "TEMP  -0.110735 -0.156514 -0.056144 -0.047159  1.000000  0.249845\n",
              "RYTHM  0.044763 -0.023406  0.275289  0.167734  0.249845  1.000000"
            ]
          },
          "metadata": {},
          "execution_count": 124
        }
      ]
    },
    {
      "cell_type": "code",
      "metadata": {
        "id": "5gtmy4eXoV7f"
      },
      "source": [
        "#corrcl=data_clean.corr()\n",
        "#corrcl"
      ],
      "execution_count": null,
      "outputs": []
    },
    {
      "cell_type": "code",
      "metadata": {
        "colab": {
          "base_uri": "https://localhost:8080/",
          "height": 289
        },
        "id": "u79nEdyYDNlP",
        "outputId": "24664506-d60a-4d79-e6a7-f82f240e66ff"
      },
      "source": [
        "sns.heatmap(corr,annot=True,cmap='Blues')"
      ],
      "execution_count": null,
      "outputs": [
        {
          "output_type": "execute_result",
          "data": {
            "text/plain": [
              "<matplotlib.axes._subplots.AxesSubplot at 0x7f947be1b650>"
            ]
          },
          "metadata": {},
          "execution_count": 125
        },
        {
          "output_type": "display_data",
          "data": {
            "image/png": "[encoded data removed]",
            "text/plain": [
              "<Figure size 432x288 with 2 Axes>"
            ]
          },
          "metadata": {}
        }
      ]
    },
    {
      "cell_type": "code",
      "metadata": {
        "id": "pw3SLrsCEQ89"
      },
      "source": [
        "data_=data.copy()\n",
        "X=data_.drop(columns=[\"RYTHM\",\"HUMID\"])\n",
        "y=data_[\"RYTHM\"]"
      ],
      "execution_count": null,
      "outputs": []
    },
    {
      "cell_type": "code",
      "metadata": {
        "id": "Y3lyQ1iMEzyF"
      },
      "source": [
        "X_train, X_test, Y_train, Y_test = train_test_split (X, y, test_size = 0.15, random_state=10)"
      ],
      "execution_count": null,
      "outputs": []
    },
    {
      "cell_type": "code",
      "metadata": {
        "id": "GcbqgM-9E4GB"
      },
      "source": [
        "#Importación de Modelos a Testear\n",
        "from sklearn.linear_model import LinearRegression\n",
        "from sklearn.linear_model import Lasso\n",
        "from sklearn.linear_model import ElasticNet\n",
        "from sklearn.tree import DecisionTreeRegressor\n",
        "from sklearn.neighbors import KNeighborsRegressor\n",
        "from sklearn.ensemble import GradientBoostingRegressor\n",
        "from sklearn.neighbors import KNeighborsClassifier\n",
        "from sklearn.svm import SVR\n",
        "from sklearn.linear_model import Ridge\n",
        "from sklearn.linear_model import BayesianRidge\n",
        "from sklearn.linear_model import SGDRegressor"
      ],
      "execution_count": null,
      "outputs": []
    },
    {
      "cell_type": "code",
      "metadata": {
        "id": "JU8rexG4E8Zl"
      },
      "source": [
        "#Pipelines\n",
        "pipelines = []\n",
        "pipelines.append(('ScaledLR', Pipeline([('Scaler', StandardScaler()),('LR',LinearRegression())])))\n",
        "pipelines.append(('ScaledLASSO', Pipeline([('Scaler', StandardScaler()),('LASSO', Lasso())])))\n",
        "pipelines.append(('ScaledEN', Pipeline([('Scaler', StandardScaler()),('EN', ElasticNet())])))\n",
        "pipelines.append(('ScaledKNN', Pipeline([('Scaler', StandardScaler()),('KNN', KNeighborsRegressor())])))\n",
        "#pipelines.append(('ScaledCART', Pipeline([('Scaler', StandardScaler()),('CART', DecisionTreeRegressor())])))\n",
        "pipelines.append(('ScaledGBM', Pipeline([('Scaler', StandardScaler()),('GBM', GradientBoostingRegressor())])))\n",
        "pipelines.append(('ScaledSVR', Pipeline([('Scaler', StandardScaler()),('svm', SVR())])))\n",
        "pipelines.append(('ScaledRidge', Pipeline([('Scaler', StandardScaler()),('Ridge', Ridge())])))\n",
        "pipelines.append(('ScaledBayesianRidge', Pipeline([('Scaler', StandardScaler()),('BayesianRidge', BayesianRidge())])))\n",
        "pipelines.append(('ScaledSGD', Pipeline([('Scaler', StandardScaler()),('SGD', SGDRegressor())])))"
      ],
      "execution_count": null,
      "outputs": []
    },
    {
      "cell_type": "code",
      "metadata": {
        "colab": {
          "base_uri": "https://localhost:8080/"
        },
        "id": "D_gaDiFcFbM_",
        "outputId": "07ee9935-28ce-491e-fec2-307c5f705b97"
      },
      "source": [
        "#X=data_.drop(columns=[\"RYTHM\",\"HUMID\"]) ... BayesianRidge r2=0.185944\n",
        "#X=data_.drop(columns=[\"RYTHM\"]) ... BayesianRidge r2=0.185667 \n",
        "#X=data_.drop(columns=[\"RYTHM\",\"HUMID\"]) KFold(n_splits=2,shuffle=True,random_state=10)... BayesianRidge r2=0.192784\n",
        "#test_size=15....X=data_.drop(columns=[\"RYTHM\",\"HUMID\"]) KFold(n_splits=2,shuffle=True,random_state=10)... ScaledRidge r2=0.0.193059\n",
        "results = []\n",
        "names = []\n",
        "for name, model in pipelines:\n",
        "    kfold = KFold(n_splits=2,shuffle=True,random_state=10)\n",
        "    cv_results = cross_val_score(model, X_train, Y_train, cv=kfold, scoring='r2')\n",
        "    results.append(cv_results)\n",
        "    names.append(name)\n",
        "    msg = \"%s: %f (%f)\" % (name, cv_results.mean(), cv_results.std())\n",
        "    print(msg)"
      ],
      "execution_count": null,
      "outputs": [
        {
          "output_type": "stream",
          "name": "stdout",
          "text": [
            "ScaledLR: 0.193059 (0.002770)\n",
            "ScaledLASSO: 0.101430 (0.004971)\n",
            "ScaledEN: 0.121784 (0.000155)\n",
            "ScaledKNN: 0.031192 (0.002164)\n",
            "ScaledGBM: 0.138820 (0.006581)\n",
            "ScaledSVR: 0.164899 (0.005887)\n",
            "ScaledRidge: 0.193059 (0.002773)\n",
            "ScaledBayesianRidge: 0.193026 (0.002811)\n",
            "ScaledSGD: 0.192737 (0.002567)\n"
          ]
        }
      ]
    },
    {
      "cell_type": "code",
      "metadata": {
        "colab": {
          "base_uri": "https://localhost:8080/"
        },
        "id": "dTfNcyjp_TTz",
        "outputId": "2fab56f4-08f4-4843-ca45-3e3c260b3db0"
      },
      "source": [
        "#Final Model\n",
        "scaler = StandardScaler().fit(X_train)\n",
        "rescaledX = scaler.transform(X_train)\n",
        "model = Ridge(random_state=10)\n",
        "model.fit(rescaledX,Y_train)"
      ],
      "execution_count": null,
      "outputs": [
        {
          "output_type": "execute_result",
          "data": {
            "text/plain": [
              "Ridge(random_state=10)"
            ]
          },
          "metadata": {},
          "execution_count": 136
        }
      ]
    },
    {
      "cell_type": "code",
      "metadata": {
        "colab": {
          "base_uri": "https://localhost:8080/"
        },
        "id": "KeL3qJyyBlvu",
        "outputId": "9fc1b1f7-700a-4a6b-8fc4-5fd522db4886"
      },
      "source": [
        "rescaledX"
      ],
      "execution_count": null,
      "outputs": [
        {
          "output_type": "execute_result",
          "data": {
            "text/plain": [
              "array([[-0.67019155, -0.68750519, -0.27088094, -0.27933479],\n",
              "       [ 0.86690275,  1.38329423,  0.66921403, -0.75500549],\n",
              "       [-0.33181925, -2.42093765, -0.2627204 ,  1.28014258],\n",
              "       ...,\n",
              "       [-1.62139739, -0.71523079,  0.90750199, -0.84532271],\n",
              "       [ 0.2100886 , -1.10734999, -0.66421929, -0.60447679],\n",
              "       [-0.20811684,  0.58018379, -1.17833373,  0.96102173]])"
            ]
          },
          "metadata": {},
          "execution_count": 138
        }
      ]
    },
    {
      "cell_type": "code",
      "metadata": {
        "colab": {
          "base_uri": "https://localhost:8080/"
        },
        "id": "BC8mFKlGBGLq",
        "outputId": "1f088d85-380b-41f3-9061-38b641490916"
      },
      "source": [
        "model.score(rescaledX,Y_train)"
      ],
      "execution_count": null,
      "outputs": [
        {
          "output_type": "execute_result",
          "data": {
            "text/plain": [
              "0.19553592772328154"
            ]
          },
          "metadata": {},
          "execution_count": 139
        }
      ]
    },
    {
      "cell_type": "code",
      "metadata": {
        "id": "pjHy2GPVB3gU"
      },
      "source": [
        "#Prueba con X_test\n",
        "scaler = StandardScaler().fit(X_test)\n",
        "rescaledX_test = scaler.transform(X_test)"
      ],
      "execution_count": null,
      "outputs": []
    },
    {
      "cell_type": "code",
      "metadata": {
        "colab": {
          "base_uri": "https://localhost:8080/"
        },
        "id": "s1FJ9xxZCFjG",
        "outputId": "c995de2d-0520-497d-c6f2-ca93cda840bd"
      },
      "source": [
        "rescaledX_test"
      ],
      "execution_count": null,
      "outputs": [
        {
          "output_type": "execute_result",
          "data": {
            "text/plain": [
              "array([[-1.11040446,  0.64866216,  0.68049869,  0.41591267],\n",
              "       [-0.78014724, -0.41015108, -0.03420677,  1.29848038],\n",
              "       [ 2.68228768, -1.16651293, -0.70305724, -1.50795793],\n",
              "       ...,\n",
              "       [-0.43370419,  0.69043593,  0.14130718,  1.1587934 ],\n",
              "       [ 0.87191492, -0.31540165,  0.79908919,  0.89846768],\n",
              "       [ 0.88100558,  0.769316  , -2.36648676,  1.06355228]])"
            ]
          },
          "metadata": {},
          "execution_count": 141
        }
      ]
    },
    {
      "cell_type": "code",
      "metadata": {
        "colab": {
          "base_uri": "https://localhost:8080/"
        },
        "id": "QLrMCz2iB1DV",
        "outputId": "aa757138-fbef-48a7-a075-c84cfa9bfe5d"
      },
      "source": [
        "model.score(rescaledX_test,Y_test)"
      ],
      "execution_count": null,
      "outputs": [
        {
          "output_type": "execute_result",
          "data": {
            "text/plain": [
              "0.21386439084365783"
            ]
          },
          "metadata": {},
          "execution_count": 142
        }
      ]
    },
    {
      "cell_type": "code",
      "metadata": {
        "colab": {
          "base_uri": "https://localhost:8080/",
          "height": 206
        },
        "id": "L0C5nBZqEGNW",
        "outputId": "d7e82da3-cb46-4ebb-d411-9bd49378f3c8"
      },
      "source": [
        "#Predicción Final para Desafío\n",
        "data_desafio=pd.read_csv(\"/content/drive/MyDrive/IBM/answers.csv\")\n",
        "data_desafio.head()"
      ],
      "execution_count": null,
      "outputs": [
        {
          "output_type": "execute_result",
          "data": {
            "text/html": [
              "<div>\n",
              "<style scoped>\n",
              "    .dataframe tbody tr th:only-of-type {\n",
              "        vertical-align: middle;\n",
              "    }\n",
              "\n",
              "    .dataframe tbody tr th {\n",
              "        vertical-align: top;\n",
              "    }\n",
              "\n",
              "    .dataframe thead th {\n",
              "        text-align: right;\n",
              "    }\n",
              "</style>\n",
              "<table border=\"1\" class=\"dataframe\">\n",
              "  <thead>\n",
              "    <tr style=\"text-align: right;\">\n",
              "      <th></th>\n",
              "      <th>ID</th>\n",
              "      <th>ILLUM</th>\n",
              "      <th>HUMID</th>\n",
              "      <th>CO2</th>\n",
              "      <th>SOUND</th>\n",
              "      <th>TEMP</th>\n",
              "      <th>RYTHM</th>\n",
              "    </tr>\n",
              "  </thead>\n",
              "  <tbody>\n",
              "    <tr>\n",
              "      <th>0</th>\n",
              "      <td>0</td>\n",
              "      <td>337.90</td>\n",
              "      <td>63.29</td>\n",
              "      <td>518.13</td>\n",
              "      <td>22.38</td>\n",
              "      <td>18.59</td>\n",
              "      <td>0.0</td>\n",
              "    </tr>\n",
              "    <tr>\n",
              "      <th>1</th>\n",
              "      <td>1</td>\n",
              "      <td>342.96</td>\n",
              "      <td>63.19</td>\n",
              "      <td>488.85</td>\n",
              "      <td>37.36</td>\n",
              "      <td>20.41</td>\n",
              "      <td>0.0</td>\n",
              "    </tr>\n",
              "    <tr>\n",
              "      <th>2</th>\n",
              "      <td>2</td>\n",
              "      <td>369.86</td>\n",
              "      <td>57.39</td>\n",
              "      <td>516.86</td>\n",
              "      <td>26.45</td>\n",
              "      <td>20.89</td>\n",
              "      <td>0.0</td>\n",
              "    </tr>\n",
              "    <tr>\n",
              "      <th>3</th>\n",
              "      <td>3</td>\n",
              "      <td>304.65</td>\n",
              "      <td>67.80</td>\n",
              "      <td>517.50</td>\n",
              "      <td>32.98</td>\n",
              "      <td>22.52</td>\n",
              "      <td>0.0</td>\n",
              "    </tr>\n",
              "    <tr>\n",
              "      <th>4</th>\n",
              "      <td>4</td>\n",
              "      <td>442.25</td>\n",
              "      <td>68.21</td>\n",
              "      <td>500.91</td>\n",
              "      <td>37.28</td>\n",
              "      <td>21.88</td>\n",
              "      <td>0.0</td>\n",
              "    </tr>\n",
              "  </tbody>\n",
              "</table>\n",
              "</div>"
            ],
            "text/plain": [
              "   ID   ILLUM  HUMID     CO2  SOUND   TEMP  RYTHM\n",
              "0   0  337.90  63.29  518.13  22.38  18.59    0.0\n",
              "1   1  342.96  63.19  488.85  37.36  20.41    0.0\n",
              "2   2  369.86  57.39  516.86  26.45  20.89    0.0\n",
              "3   3  304.65  67.80  517.50  32.98  22.52    0.0\n",
              "4   4  442.25  68.21  500.91  37.28  21.88    0.0"
            ]
          },
          "metadata": {},
          "execution_count": 143
        }
      ]
    },
    {
      "cell_type": "code",
      "metadata": {
        "id": "TC-ZPwbbFNYE"
      },
      "source": [
        "X_def=data_desafio.drop(columns=[\"RYTHM\",\"HUMID\",\"ID\"])\n",
        "y_def=data_desafio[\"RYTHM\"]"
      ],
      "execution_count": null,
      "outputs": []
    },
    {
      "cell_type": "code",
      "metadata": {
        "id": "hPCj2isKFeOJ"
      },
      "source": [
        "#Normalizacion\n",
        "scaler = StandardScaler().fit(X_def)\n",
        "rescaledX_def = scaler.transform(X_def)"
      ],
      "execution_count": null,
      "outputs": []
    },
    {
      "cell_type": "code",
      "metadata": {
        "colab": {
          "base_uri": "https://localhost:8080/"
        },
        "id": "RI0nrKNhFja8",
        "outputId": "51a2299a-0e3d-474f-999c-deab123063f1"
      },
      "source": [
        "rescaledX_def"
      ],
      "execution_count": null,
      "outputs": [
        {
          "output_type": "execute_result",
          "data": {
            "text/plain": [
              "array([[-1.16829436,  0.50461494, -1.28262194, -0.8864345 ],\n",
              "       [-1.10868227, -0.19011336,  1.07890116,  0.20747458],\n",
              "       [-0.79177214,  0.47448158, -0.64100652,  0.49597808],\n",
              "       ...,\n",
              "       [ 0.27936055,  1.51087953,  0.10780755, -2.97808484],\n",
              "       [ 0.73846791,  0.94949731,  0.02583211, -1.49950443],\n",
              "       [ 0.19689323, -1.28203264, -0.67884133,  0.3096529 ]])"
            ]
          },
          "metadata": {},
          "execution_count": 150
        }
      ]
    },
    {
      "cell_type": "code",
      "metadata": {
        "id": "KfAYOrQ0FTWT"
      },
      "source": [
        "#X_def"
      ],
      "execution_count": null,
      "outputs": []
    },
    {
      "cell_type": "code",
      "metadata": {
        "id": "wIOSdaI6FURs"
      },
      "source": [
        "#y_def"
      ],
      "execution_count": null,
      "outputs": []
    },
    {
      "cell_type": "code",
      "metadata": {
        "colab": {
          "base_uri": "https://localhost:8080/"
        },
        "id": "gMy_lwnXFsiH",
        "outputId": "5440b672-0857-4783-e66b-97aa4b778bea"
      },
      "source": [
        "predef=model.predict(rescaledX_def)\n",
        "predef"
      ],
      "execution_count": null,
      "outputs": [
        {
          "output_type": "execute_result",
          "data": {
            "text/plain": [
              "array([76.86806639, 80.49477376, 80.61433849, 83.16216326, 83.83622708,\n",
              "       87.13753077, 80.76056529, 81.29445073, 81.30033783, 78.16614163,\n",
              "       83.99131365, 77.55210957, 78.54513767, 80.65363855, 82.07127758,\n",
              "       75.8800862 , 78.16340747, 74.3587189 , 84.87055967, 80.98259897,\n",
              "       80.32656668, 76.46470275, 76.79132689, 79.50147143, 84.1360591 ,\n",
              "       73.8322181 , 81.05272639, 78.72759543, 81.10880162, 75.27948911,\n",
              "       80.39683593, 80.94567606, 82.19998277, 80.31134257, 80.45669895,\n",
              "       78.36394068, 80.74293835, 81.26820681, 73.44669695, 78.97495161,\n",
              "       79.42304941, 79.79693153, 82.84408808, 78.19218602, 77.35380749,\n",
              "       78.94316695, 81.68688528, 76.92043249, 85.28358599, 81.254164  ,\n",
              "       80.00471529, 80.95681822, 81.71084052, 77.61688407, 82.36099828,\n",
              "       79.44590355, 76.30198294, 81.85774109, 81.58088493, 79.02562212,\n",
              "       82.15304354, 84.44385469, 72.2336842 , 85.72677403, 82.58920556,\n",
              "       76.82221988, 81.25588682, 76.31537319, 80.02025073, 79.52435077,\n",
              "       75.63292829, 79.48105442, 75.10614004, 83.11198477, 83.45172071,\n",
              "       82.06203678, 84.95408792, 78.66816908, 78.87566466, 77.45785143,\n",
              "       75.77040584, 75.93238955, 76.31208846, 83.07724353, 83.83928643,\n",
              "       76.65686832, 79.60896452, 81.50266559, 83.23514876, 83.02720729,\n",
              "       78.49938761, 83.67175976, 75.07823883, 77.10518623, 81.12145739,\n",
              "       87.64510015, 76.93644492, 77.97709173, 81.41917286, 79.21048959,\n",
              "       79.0927605 , 82.27672342, 83.7500576 , 81.62022806, 77.91840789,\n",
              "       75.54015151, 77.96154862, 82.65595978, 81.06885585, 79.52330008,\n",
              "       83.18357718, 84.0321566 , 84.25276353, 80.43549392, 75.00191605,\n",
              "       77.92772619, 82.92016109, 81.6207181 , 81.03460322, 79.99162489,\n",
              "       82.1326897 , 79.04173651, 73.89885948, 78.98678026, 81.39821407,\n",
              "       81.23816134, 78.21260164, 78.00703631, 80.62641723, 79.17675496,\n",
              "       75.35441474, 77.95976348, 82.08638626, 79.07571544, 79.75927875,\n",
              "       77.91217351, 78.41876676, 77.03376838, 80.44884491, 84.22296973,\n",
              "       81.36343498, 81.6083507 , 77.34020811, 80.82104579, 79.98938694,\n",
              "       80.51621057, 82.27434225, 78.65895197, 80.69041282, 79.75596352,\n",
              "       75.68429512, 82.56994003, 82.97013917, 80.4097085 , 76.43375011,\n",
              "       80.3673343 , 79.03674846, 77.1957892 , 82.62363392, 76.98811754,\n",
              "       85.45481368, 75.3353871 , 85.95131592, 79.8817416 , 79.18028053,\n",
              "       81.67530519, 79.1066601 , 80.47835592, 80.60690086, 74.05319706,\n",
              "       84.85925313, 78.35473178, 81.28263223, 85.01155559, 79.90404141,\n",
              "       78.479461  , 77.76043121, 79.35696994, 77.51113684, 78.37153764,\n",
              "       84.07248523, 76.86412019, 81.40700047, 76.33016027, 79.39452186,\n",
              "       86.41681113, 80.75357733, 83.09766844, 85.23697087, 79.37779486,\n",
              "       77.29643132, 78.98590067, 77.10204309, 76.16221289, 84.307346  ,\n",
              "       82.6360829 , 81.22005928, 80.50581367, 80.22308258, 82.94752907,\n",
              "       76.0557259 , 81.86738499, 82.08483183, 80.84452197, 79.27934674,\n",
              "       80.87657936, 81.60891435, 75.70417674, 81.3138499 , 84.05686995,\n",
              "       79.53919127, 82.87427574, 77.68527614, 77.77718458, 83.49804293,\n",
              "       74.56129667, 79.45384116, 78.01755201, 78.23719566, 84.33421634,\n",
              "       84.52892079, 81.75210987, 80.57840262, 83.49603201, 80.17091192,\n",
              "       77.88371594, 83.27175258, 81.83245132, 82.58318707, 81.69465823,\n",
              "       72.07010535, 79.3762318 , 77.96565897, 81.43334733, 80.73595962,\n",
              "       80.41983657, 81.08887466, 76.3003401 , 80.21245328, 80.93312949,\n",
              "       79.53564987, 82.12897811, 82.7335081 , 79.63455232, 80.79377678,\n",
              "       84.50648503, 86.2730307 , 76.87609485, 80.22447217, 81.9431056 ,\n",
              "       83.14120412, 80.74206375, 80.977351  , 79.29883183, 82.45328548,\n",
              "       82.69493656, 81.40832921, 81.23281227, 83.5191537 , 82.32762345,\n",
              "       83.40372726, 78.69917813, 76.74707645, 83.88750099, 80.63603748,\n",
              "       83.91595818, 82.38842696, 83.43260175, 79.00767495, 81.02379746,\n",
              "       78.33991671, 81.01958989, 83.1598536 , 78.33926506, 85.08594916,\n",
              "       80.64484796, 84.05547389, 77.17071586, 77.8139867 , 78.88692484,\n",
              "       78.5202929 , 76.06510452, 83.07579857, 78.95320394, 75.4131267 ,\n",
              "       81.26392166, 80.32974175, 75.01816333, 79.42637374, 82.23225607,\n",
              "       78.69579382, 79.22144152, 84.35273482, 76.92648688, 81.60069547,\n",
              "       80.58562835, 73.34140262, 82.16038667, 85.98507712, 81.2687618 ,\n",
              "       80.64725044, 81.9589897 , 79.55929637, 80.87748738, 83.25811298,\n",
              "       82.13041027, 81.13255857, 82.26661355, 82.06519191, 82.20599763,\n",
              "       72.65282897, 81.94940098, 81.41835801, 80.34497598, 82.3431501 ,\n",
              "       82.36268908, 81.65859368, 81.70976825, 74.25612647, 86.26586827,\n",
              "       78.86326752, 84.20810426, 80.81802189, 75.6018969 , 79.11716232,\n",
              "       78.06855952, 78.47753548, 83.94036432, 75.8799779 , 80.71517371,\n",
              "       73.73929033, 75.90784348, 83.42585246, 78.37086819, 85.47454654,\n",
              "       83.60834312, 81.38309783, 82.41008126, 82.44252017, 86.53996333,\n",
              "       81.3008726 , 77.20140413, 82.097158  , 80.27505867, 77.41369842,\n",
              "       79.92190228, 80.65841316, 80.35139563, 75.32861039, 79.47990384,\n",
              "       78.96370581, 78.84156972, 80.6457004 , 79.12067567, 80.81632921,\n",
              "       84.46176287, 79.1103494 , 81.34327768, 77.01452913, 76.5252473 ,\n",
              "       77.76456108, 82.02316345, 80.48664287, 78.3852843 , 79.2402654 ,\n",
              "       76.01718926, 75.24893924, 80.83823391, 82.88928169, 79.72895514,\n",
              "       77.66453833, 80.93780024, 73.78211542, 80.37181715, 77.30541503,\n",
              "       80.85803063, 77.10818846, 80.88567315, 82.73063423, 75.74054623,\n",
              "       77.10512654, 77.52900276, 77.49654604, 81.02547128, 76.86191043,\n",
              "       81.32148478, 71.54965436, 76.04124411, 79.27978147, 76.07600272,\n",
              "       81.28349044, 75.78700423, 81.08921635, 79.33574074, 79.76246295,\n",
              "       79.30878862, 81.2285101 , 85.32416029, 82.30557626, 80.28707769,\n",
              "       82.97924511, 83.20065407, 78.72185258, 75.28136731, 79.06393383,\n",
              "       83.45805186, 82.02406304, 78.17655509, 82.11495872, 84.59436045,\n",
              "       75.59032608, 80.9779212 , 80.9514382 , 78.00001857, 74.55348865,\n",
              "       79.26718545, 84.36303586, 77.45418263, 79.25120465, 81.00305012,\n",
              "       79.43591987, 83.93359245, 80.01980633, 77.9264915 , 80.37928071,\n",
              "       81.56435744, 79.64070809, 80.495296  , 78.64580726, 80.95076032,\n",
              "       83.88322257, 78.02065643, 79.96041216, 75.08606254, 76.36864545,\n",
              "       83.95031116, 82.43543562, 77.50313678, 81.84553453, 84.28725855,\n",
              "       80.99374612, 84.39722499, 80.02107416, 80.03193906, 79.41052491,\n",
              "       82.46494568, 78.3949958 , 78.58712144, 83.39295509, 83.30513502,\n",
              "       78.93202762, 79.73485971, 81.00016623, 81.31310271, 78.42287699,\n",
              "       78.69569457, 79.87886558, 82.14977477, 81.51378973, 81.12956318,\n",
              "       81.58742278, 78.96830872, 79.11513191, 80.79427963, 76.16506355,\n",
              "       79.57792904, 84.77723147, 78.27065628, 85.26884272, 79.53229406,\n",
              "       81.3701396 , 79.78636003, 79.84934282, 82.98446301, 81.45610169,\n",
              "       81.63032529, 80.82248184, 84.41821268, 79.14167041, 81.97478788,\n",
              "       78.65626816, 81.44890996, 77.43634364, 84.27011372, 79.35600294,\n",
              "       75.64441721, 74.67725569, 79.15460101, 81.57206344, 83.66742873,\n",
              "       82.11236993, 75.87757408, 80.39873533, 78.1104189 , 84.28573085,\n",
              "       79.16315303, 83.59741173, 83.53053571, 80.42434922, 82.67092727,\n",
              "       75.98100607, 79.57981988, 82.37046972, 82.03738874, 82.11295361,\n",
              "       80.12594663, 80.08758059, 82.11661338, 81.54984932, 79.8139506 ,\n",
              "       76.46946808, 79.03856289, 77.42485333, 79.48316904, 83.2540502 ,\n",
              "       78.33120323, 82.98006417, 82.52839527, 78.0801741 , 87.62544252,\n",
              "       77.94869701, 77.42637813, 83.00646469, 78.93695348, 74.06949912,\n",
              "       74.0904618 , 82.96499532, 82.10733474, 75.27474486, 81.96268123,\n",
              "       81.91991767, 74.88606383, 86.57044598, 76.25495267, 81.43836099,\n",
              "       79.18039845, 77.5472506 , 76.06804371, 85.01174034, 81.40075564,\n",
              "       78.19370633, 75.05187316, 76.01509415, 81.36682071, 82.39790084,\n",
              "       84.69390193, 74.32932632, 80.19607157, 82.20883927, 78.58313637,\n",
              "       80.23362707, 83.24508696, 84.35611581, 79.3652668 , 78.98850964,\n",
              "       86.85961442, 73.27176607, 78.07455895, 77.08764674, 79.18071647,\n",
              "       79.21043188, 79.42996811, 78.40010737, 79.68278267, 82.03992139,\n",
              "       77.00047919, 77.42599303, 75.60313071, 84.24102417, 78.58112374,\n",
              "       78.14429745, 84.00038196, 74.73194586, 80.69716263, 77.69841107,\n",
              "       80.09448355, 82.98119   , 79.60325054, 82.68233567, 72.8833975 ,\n",
              "       79.86319302, 80.96814393, 77.38346933, 79.9736825 , 87.25405562,\n",
              "       83.48276963, 81.5098852 , 81.33107718, 81.84888947, 82.9181176 ,\n",
              "       76.97285609, 80.5329582 , 81.53651111, 80.50342166, 82.46443289,\n",
              "       79.3562795 , 77.71464961, 80.0839954 , 83.07323813, 81.58273576,\n",
              "       78.71287206, 81.92332632, 80.78617162, 81.54477621, 76.85218964,\n",
              "       76.82378395, 81.12985304, 75.95485596, 81.52443266, 85.44077384,\n",
              "       72.66102545, 78.35978998, 82.81868689, 81.09260704, 80.0689373 ,\n",
              "       85.62759785, 74.54868323, 83.17038404, 80.21801716, 78.02467228,\n",
              "       78.0585286 , 78.1019184 , 82.21813135, 80.0130853 , 77.99679936,\n",
              "       77.22333095, 77.08958487, 82.41232198, 78.29457594, 81.71747785,\n",
              "       87.7904257 , 74.30807994, 76.79959659, 79.36717264, 78.61152198,\n",
              "       79.53110697, 78.91365046, 78.79395086, 80.20040325, 74.68113705,\n",
              "       77.26827136, 80.25586298, 77.86415727, 84.25508777, 77.45307812,\n",
              "       80.88181637, 74.85825892, 79.14721978, 80.21668623, 76.12111719,\n",
              "       83.08679009, 78.57415583, 81.81281155, 83.2667397 , 77.82734336,\n",
              "       77.52781857, 77.84383263, 83.09762809, 79.11315819, 80.59790983,\n",
              "       82.43922745, 80.17588662, 76.36954724, 79.26660641, 84.41504156,\n",
              "       82.34887463, 80.37342033, 80.95401359, 77.92771628, 80.12574717,\n",
              "       80.37023178, 79.25298429, 78.68505602, 77.30700318, 78.78992071,\n",
              "       81.28095341, 84.80046689, 85.62301238, 79.94893916, 83.54788311,\n",
              "       81.31696083, 81.02324893, 84.15782153, 81.21173757, 78.71250147,\n",
              "       83.70237174, 77.10794218, 80.89628543, 80.53476509, 74.30806802,\n",
              "       80.5371352 , 84.86870064, 77.11594409, 78.97091995, 79.41753271,\n",
              "       75.83178297, 81.63173443, 79.67371195, 82.57742381, 86.01214273,\n",
              "       80.95824512, 78.30482682, 76.02407991, 78.747378  , 77.90799578,\n",
              "       81.72440421, 84.4838738 , 82.59909006, 84.43331642, 80.93849665,\n",
              "       80.93624868, 82.5521078 , 84.82432418, 85.08839517, 81.76880341,\n",
              "       78.63032457, 81.31851331, 79.29440674, 80.17534066, 84.85076745,\n",
              "       83.06299965, 79.34895981, 78.56711116, 82.59200866, 80.73830598,\n",
              "       75.26068557, 83.15595849, 76.27763511, 75.55863886, 79.00410603,\n",
              "       77.79880624, 79.85094716, 79.4067442 , 77.93809676, 80.00165696,\n",
              "       81.42510279, 82.99036289, 78.30190906, 81.15765982, 82.24782212,\n",
              "       78.2111596 , 85.03956664, 79.87004364, 83.68874222, 85.3939899 ,\n",
              "       75.22343761, 80.29854799, 83.42311095, 78.03330233, 78.76834784,\n",
              "       78.05764217, 84.5824158 , 80.00692708, 81.09627171, 84.86270628,\n",
              "       83.6769433 , 80.351954  , 84.96142838, 78.93903354, 79.16414163,\n",
              "       81.25516603, 81.58798708, 81.86010939, 78.78595322, 77.75926641,\n",
              "       78.52876122, 79.09384154, 76.59829853, 78.20696836, 79.06312251,\n",
              "       84.16791892, 82.47111183, 79.96456682, 76.19432839, 80.68025026,\n",
              "       83.8762859 , 77.69384923, 79.00910993, 78.75407585, 82.26283741,\n",
              "       77.07891785, 76.2256603 , 79.69367875, 77.86484196, 80.44940075,\n",
              "       80.69747388, 76.65155981, 78.8237394 , 83.48835773, 80.85702798,\n",
              "       79.11644075, 82.60116669, 77.77503635, 77.91373535, 77.61840916,\n",
              "       76.10859706, 82.48274558, 78.01831564, 79.96191809, 77.26150225])"
            ]
          },
          "metadata": {},
          "execution_count": 153
        }
      ]
    },
    {
      "cell_type": "code",
      "metadata": {
        "colab": {
          "base_uri": "https://localhost:8080/",
          "height": 206
        },
        "id": "GIPhhBnsF3Sg",
        "outputId": "0dbf1f58-7db9-4856-e588-3d9d36e661f7"
      },
      "source": [
        "data_desafio.head()"
      ],
      "execution_count": null,
      "outputs": [
        {
          "output_type": "execute_result",
          "data": {
            "text/html": [
              "<div>\n",
              "<style scoped>\n",
              "    .dataframe tbody tr th:only-of-type {\n",
              "        vertical-align: middle;\n",
              "    }\n",
              "\n",
              "    .dataframe tbody tr th {\n",
              "        vertical-align: top;\n",
              "    }\n",
              "\n",
              "    .dataframe thead th {\n",
              "        text-align: right;\n",
              "    }\n",
              "</style>\n",
              "<table border=\"1\" class=\"dataframe\">\n",
              "  <thead>\n",
              "    <tr style=\"text-align: right;\">\n",
              "      <th></th>\n",
              "      <th>ID</th>\n",
              "      <th>ILLUM</th>\n",
              "      <th>HUMID</th>\n",
              "      <th>CO2</th>\n",
              "      <th>SOUND</th>\n",
              "      <th>TEMP</th>\n",
              "      <th>RYTHM</th>\n",
              "    </tr>\n",
              "  </thead>\n",
              "  <tbody>\n",
              "    <tr>\n",
              "      <th>0</th>\n",
              "      <td>0</td>\n",
              "      <td>337.90</td>\n",
              "      <td>63.29</td>\n",
              "      <td>518.13</td>\n",
              "      <td>22.38</td>\n",
              "      <td>18.59</td>\n",
              "      <td>0.0</td>\n",
              "    </tr>\n",
              "    <tr>\n",
              "      <th>1</th>\n",
              "      <td>1</td>\n",
              "      <td>342.96</td>\n",
              "      <td>63.19</td>\n",
              "      <td>488.85</td>\n",
              "      <td>37.36</td>\n",
              "      <td>20.41</td>\n",
              "      <td>0.0</td>\n",
              "    </tr>\n",
              "    <tr>\n",
              "      <th>2</th>\n",
              "      <td>2</td>\n",
              "      <td>369.86</td>\n",
              "      <td>57.39</td>\n",
              "      <td>516.86</td>\n",
              "      <td>26.45</td>\n",
              "      <td>20.89</td>\n",
              "      <td>0.0</td>\n",
              "    </tr>\n",
              "    <tr>\n",
              "      <th>3</th>\n",
              "      <td>3</td>\n",
              "      <td>304.65</td>\n",
              "      <td>67.80</td>\n",
              "      <td>517.50</td>\n",
              "      <td>32.98</td>\n",
              "      <td>22.52</td>\n",
              "      <td>0.0</td>\n",
              "    </tr>\n",
              "    <tr>\n",
              "      <th>4</th>\n",
              "      <td>4</td>\n",
              "      <td>442.25</td>\n",
              "      <td>68.21</td>\n",
              "      <td>500.91</td>\n",
              "      <td>37.28</td>\n",
              "      <td>21.88</td>\n",
              "      <td>0.0</td>\n",
              "    </tr>\n",
              "  </tbody>\n",
              "</table>\n",
              "</div>"
            ],
            "text/plain": [
              "   ID   ILLUM  HUMID     CO2  SOUND   TEMP  RYTHM\n",
              "0   0  337.90  63.29  518.13  22.38  18.59    0.0\n",
              "1   1  342.96  63.19  488.85  37.36  20.41    0.0\n",
              "2   2  369.86  57.39  516.86  26.45  20.89    0.0\n",
              "3   3  304.65  67.80  517.50  32.98  22.52    0.0\n",
              "4   4  442.25  68.21  500.91  37.28  21.88    0.0"
            ]
          },
          "metadata": {},
          "execution_count": 154
        }
      ]
    },
    {
      "cell_type": "code",
      "metadata": {
        "id": "4LYHV2Z7G0XY"
      },
      "source": [
        "data_desafio[\"RYTHM\"]=predef"
      ],
      "execution_count": null,
      "outputs": []
    },
    {
      "cell_type": "code",
      "metadata": {
        "colab": {
          "base_uri": "https://localhost:8080/",
          "height": 206
        },
        "id": "HoXiYBJiGCGF",
        "outputId": "b6ac71f1-df82-4817-910d-3277872f8142"
      },
      "source": [
        "data_desafio.head()"
      ],
      "execution_count": null,
      "outputs": [
        {
          "output_type": "execute_result",
          "data": {
            "text/html": [
              "<div>\n",
              "<style scoped>\n",
              "    .dataframe tbody tr th:only-of-type {\n",
              "        vertical-align: middle;\n",
              "    }\n",
              "\n",
              "    .dataframe tbody tr th {\n",
              "        vertical-align: top;\n",
              "    }\n",
              "\n",
              "    .dataframe thead th {\n",
              "        text-align: right;\n",
              "    }\n",
              "</style>\n",
              "<table border=\"1\" class=\"dataframe\">\n",
              "  <thead>\n",
              "    <tr style=\"text-align: right;\">\n",
              "      <th></th>\n",
              "      <th>ID</th>\n",
              "      <th>ILLUM</th>\n",
              "      <th>HUMID</th>\n",
              "      <th>CO2</th>\n",
              "      <th>SOUND</th>\n",
              "      <th>TEMP</th>\n",
              "      <th>RYTHM</th>\n",
              "    </tr>\n",
              "  </thead>\n",
              "  <tbody>\n",
              "    <tr>\n",
              "      <th>0</th>\n",
              "      <td>0</td>\n",
              "      <td>337.90</td>\n",
              "      <td>63.29</td>\n",
              "      <td>518.13</td>\n",
              "      <td>22.38</td>\n",
              "      <td>18.59</td>\n",
              "      <td>76.868066</td>\n",
              "    </tr>\n",
              "    <tr>\n",
              "      <th>1</th>\n",
              "      <td>1</td>\n",
              "      <td>342.96</td>\n",
              "      <td>63.19</td>\n",
              "      <td>488.85</td>\n",
              "      <td>37.36</td>\n",
              "      <td>20.41</td>\n",
              "      <td>80.494774</td>\n",
              "    </tr>\n",
              "    <tr>\n",
              "      <th>2</th>\n",
              "      <td>2</td>\n",
              "      <td>369.86</td>\n",
              "      <td>57.39</td>\n",
              "      <td>516.86</td>\n",
              "      <td>26.45</td>\n",
              "      <td>20.89</td>\n",
              "      <td>80.614338</td>\n",
              "    </tr>\n",
              "    <tr>\n",
              "      <th>3</th>\n",
              "      <td>3</td>\n",
              "      <td>304.65</td>\n",
              "      <td>67.80</td>\n",
              "      <td>517.50</td>\n",
              "      <td>32.98</td>\n",
              "      <td>22.52</td>\n",
              "      <td>83.162163</td>\n",
              "    </tr>\n",
              "    <tr>\n",
              "      <th>4</th>\n",
              "      <td>4</td>\n",
              "      <td>442.25</td>\n",
              "      <td>68.21</td>\n",
              "      <td>500.91</td>\n",
              "      <td>37.28</td>\n",
              "      <td>21.88</td>\n",
              "      <td>83.836227</td>\n",
              "    </tr>\n",
              "  </tbody>\n",
              "</table>\n",
              "</div>"
            ],
            "text/plain": [
              "   ID   ILLUM  HUMID     CO2  SOUND   TEMP      RYTHM\n",
              "0   0  337.90  63.29  518.13  22.38  18.59  76.868066\n",
              "1   1  342.96  63.19  488.85  37.36  20.41  80.494774\n",
              "2   2  369.86  57.39  516.86  26.45  20.89  80.614338\n",
              "3   3  304.65  67.80  517.50  32.98  22.52  83.162163\n",
              "4   4  442.25  68.21  500.91  37.28  21.88  83.836227"
            ]
          },
          "metadata": {},
          "execution_count": 156
        }
      ]
    },
    {
      "cell_type": "code",
      "metadata": {
        "colab": {
          "base_uri": "https://localhost:8080/",
          "height": 165
        },
        "id": "GWzLqkeeG3J_",
        "outputId": "a6dc4c4f-06eb-423f-aecf-092958462956"
      },
      "source": [
        "data_desafio.tail()"
      ],
      "execution_count": null,
      "outputs": [
        {
          "output_type": "error",
          "ename": "NameError",
          "evalue": "ignored",
          "traceback": [
            "\u001b[0;31m---------------------------------------------------------------------------\u001b[0m",
            "\u001b[0;31mNameError\u001b[0m                                 Traceback (most recent call last)",
            "\u001b[0;32m<ipython-input-1-ab10171151b6>\u001b[0m in \u001b[0;36m<module>\u001b[0;34m()\u001b[0m\n\u001b[0;32m----> 1\u001b[0;31m \u001b[0mdata_desafio\u001b[0m\u001b[0;34m.\u001b[0m\u001b[0mtail\u001b[0m\u001b[0;34m(\u001b[0m\u001b[0;34m)\u001b[0m\u001b[0;34m\u001b[0m\u001b[0;34m\u001b[0m\u001b[0m\n\u001b[0m",
            "\u001b[0;31mNameError\u001b[0m: name 'data_desafio' is not defined"
          ]
        }
      ]
    },
    {
      "cell_type": "code",
      "metadata": {
        "id": "GNbCCCEYG7mY"
      },
      "source": [
        "respuestas=data_desafio.to_csv(sep=',', encoding='utf-8',index = False)"
      ],
      "execution_count": null,
      "outputs": []
    },
    {
      "cell_type": "code",
      "metadata": {
        "id": "3IJhjCEPHCqj"
      },
      "source": [
        "print(respuestas)"
      ],
      "execution_count": null,
      "outputs": []
    },
    {
      "cell_type": "code",
      "metadata": {
        "colab": {
          "base_uri": "https://localhost:8080/",
          "height": 424
        },
        "id": "J-QmCRtJ5ErU",
        "outputId": "850f1a1a-4565-478c-b606-edb2c384bc5d"
      },
      "source": [
        "df_toround=pd.read_csv(\"/content/drive/MyDrive/IBM/respuestas_redondear.csv\")\n",
        "df_toround"
      ],
      "execution_count": null,
      "outputs": [
        {
          "output_type": "execute_result",
          "data": {
            "text/html": [
              "<div>\n",
              "<style scoped>\n",
              "    .dataframe tbody tr th:only-of-type {\n",
              "        vertical-align: middle;\n",
              "    }\n",
              "\n",
              "    .dataframe tbody tr th {\n",
              "        vertical-align: top;\n",
              "    }\n",
              "\n",
              "    .dataframe thead th {\n",
              "        text-align: right;\n",
              "    }\n",
              "</style>\n",
              "<table border=\"1\" class=\"dataframe\">\n",
              "  <thead>\n",
              "    <tr style=\"text-align: right;\">\n",
              "      <th></th>\n",
              "      <th>ID</th>\n",
              "      <th>ILLUM</th>\n",
              "      <th>HUMID</th>\n",
              "      <th>CO2</th>\n",
              "      <th>SOUND</th>\n",
              "      <th>TEMP</th>\n",
              "      <th>RYTHM</th>\n",
              "    </tr>\n",
              "  </thead>\n",
              "  <tbody>\n",
              "    <tr>\n",
              "      <th>0</th>\n",
              "      <td>0</td>\n",
              "      <td>337.90</td>\n",
              "      <td>63.29</td>\n",
              "      <td>518.13</td>\n",
              "      <td>22.38</td>\n",
              "      <td>18.59</td>\n",
              "      <td>76.868066</td>\n",
              "    </tr>\n",
              "    <tr>\n",
              "      <th>1</th>\n",
              "      <td>1</td>\n",
              "      <td>342.96</td>\n",
              "      <td>63.19</td>\n",
              "      <td>488.85</td>\n",
              "      <td>37.36</td>\n",
              "      <td>20.41</td>\n",
              "      <td>80.494774</td>\n",
              "    </tr>\n",
              "    <tr>\n",
              "      <th>2</th>\n",
              "      <td>2</td>\n",
              "      <td>369.86</td>\n",
              "      <td>57.39</td>\n",
              "      <td>516.86</td>\n",
              "      <td>26.45</td>\n",
              "      <td>20.89</td>\n",
              "      <td>80.614338</td>\n",
              "    </tr>\n",
              "    <tr>\n",
              "      <th>3</th>\n",
              "      <td>3</td>\n",
              "      <td>304.65</td>\n",
              "      <td>67.80</td>\n",
              "      <td>517.50</td>\n",
              "      <td>32.98</td>\n",
              "      <td>22.52</td>\n",
              "      <td>83.162163</td>\n",
              "    </tr>\n",
              "    <tr>\n",
              "      <th>4</th>\n",
              "      <td>4</td>\n",
              "      <td>442.25</td>\n",
              "      <td>68.21</td>\n",
              "      <td>500.91</td>\n",
              "      <td>37.28</td>\n",
              "      <td>21.88</td>\n",
              "      <td>83.836227</td>\n",
              "    </tr>\n",
              "    <tr>\n",
              "      <th>...</th>\n",
              "      <td>...</td>\n",
              "      <td>...</td>\n",
              "      <td>...</td>\n",
              "      <td>...</td>\n",
              "      <td>...</td>\n",
              "      <td>...</td>\n",
              "      <td>...</td>\n",
              "    </tr>\n",
              "    <tr>\n",
              "      <th>795</th>\n",
              "      <td>795</td>\n",
              "      <td>421.39</td>\n",
              "      <td>55.97</td>\n",
              "      <td>451.86</td>\n",
              "      <td>29.25</td>\n",
              "      <td>18.96</td>\n",
              "      <td>76.108597</td>\n",
              "    </tr>\n",
              "    <tr>\n",
              "      <th>796</th>\n",
              "      <td>796</td>\n",
              "      <td>572.90</td>\n",
              "      <td>59.42</td>\n",
              "      <td>502.12</td>\n",
              "      <td>36.12</td>\n",
              "      <td>19.70</td>\n",
              "      <td>82.482746</td>\n",
              "    </tr>\n",
              "    <tr>\n",
              "      <th>797</th>\n",
              "      <td>797</td>\n",
              "      <td>460.78</td>\n",
              "      <td>64.28</td>\n",
              "      <td>560.54</td>\n",
              "      <td>31.20</td>\n",
              "      <td>15.11</td>\n",
              "      <td>78.018316</td>\n",
              "    </tr>\n",
              "    <tr>\n",
              "      <th>798</th>\n",
              "      <td>798</td>\n",
              "      <td>499.75</td>\n",
              "      <td>67.20</td>\n",
              "      <td>536.88</td>\n",
              "      <td>30.68</td>\n",
              "      <td>17.57</td>\n",
              "      <td>79.961918</td>\n",
              "    </tr>\n",
              "    <tr>\n",
              "      <th>799</th>\n",
              "      <td>799</td>\n",
              "      <td>453.78</td>\n",
              "      <td>58.24</td>\n",
              "      <td>442.83</td>\n",
              "      <td>26.21</td>\n",
              "      <td>20.58</td>\n",
              "      <td>77.261502</td>\n",
              "    </tr>\n",
              "  </tbody>\n",
              "</table>\n",
              "<p>800 rows × 7 columns</p>\n",
              "</div>"
            ],
            "text/plain": [
              "      ID   ILLUM  HUMID     CO2  SOUND   TEMP      RYTHM\n",
              "0      0  337.90  63.29  518.13  22.38  18.59  76.868066\n",
              "1      1  342.96  63.19  488.85  37.36  20.41  80.494774\n",
              "2      2  369.86  57.39  516.86  26.45  20.89  80.614338\n",
              "3      3  304.65  67.80  517.50  32.98  22.52  83.162163\n",
              "4      4  442.25  68.21  500.91  37.28  21.88  83.836227\n",
              "..   ...     ...    ...     ...    ...    ...        ...\n",
              "795  795  421.39  55.97  451.86  29.25  18.96  76.108597\n",
              "796  796  572.90  59.42  502.12  36.12  19.70  82.482746\n",
              "797  797  460.78  64.28  560.54  31.20  15.11  78.018316\n",
              "798  798  499.75  67.20  536.88  30.68  17.57  79.961918\n",
              "799  799  453.78  58.24  442.83  26.21  20.58  77.261502\n",
              "\n",
              "[800 rows x 7 columns]"
            ]
          },
          "metadata": {},
          "execution_count": 6
        }
      ]
    },
    {
      "cell_type": "code",
      "metadata": {
        "colab": {
          "base_uri": "https://localhost:8080/",
          "height": 424
        },
        "id": "8k2SSmEy5Yew",
        "outputId": "ca4bdf2a-511c-4521-9f1c-c42f81e3fb4a"
      },
      "source": [
        "df_toround[\"RYTHM\"]=df_toround[\"RYTHM\"].round(2)\n",
        "df_toround"
      ],
      "execution_count": null,
      "outputs": [
        {
          "output_type": "execute_result",
          "data": {
            "text/html": [
              "<div>\n",
              "<style scoped>\n",
              "    .dataframe tbody tr th:only-of-type {\n",
              "        vertical-align: middle;\n",
              "    }\n",
              "\n",
              "    .dataframe tbody tr th {\n",
              "        vertical-align: top;\n",
              "    }\n",
              "\n",
              "    .dataframe thead th {\n",
              "        text-align: right;\n",
              "    }\n",
              "</style>\n",
              "<table border=\"1\" class=\"dataframe\">\n",
              "  <thead>\n",
              "    <tr style=\"text-align: right;\">\n",
              "      <th></th>\n",
              "      <th>ID</th>\n",
              "      <th>ILLUM</th>\n",
              "      <th>HUMID</th>\n",
              "      <th>CO2</th>\n",
              "      <th>SOUND</th>\n",
              "      <th>TEMP</th>\n",
              "      <th>RYTHM</th>\n",
              "    </tr>\n",
              "  </thead>\n",
              "  <tbody>\n",
              "    <tr>\n",
              "      <th>0</th>\n",
              "      <td>0</td>\n",
              "      <td>337.90</td>\n",
              "      <td>63.29</td>\n",
              "      <td>518.13</td>\n",
              "      <td>22.38</td>\n",
              "      <td>18.59</td>\n",
              "      <td>76.87</td>\n",
              "    </tr>\n",
              "    <tr>\n",
              "      <th>1</th>\n",
              "      <td>1</td>\n",
              "      <td>342.96</td>\n",
              "      <td>63.19</td>\n",
              "      <td>488.85</td>\n",
              "      <td>37.36</td>\n",
              "      <td>20.41</td>\n",
              "      <td>80.49</td>\n",
              "    </tr>\n",
              "    <tr>\n",
              "      <th>2</th>\n",
              "      <td>2</td>\n",
              "      <td>369.86</td>\n",
              "      <td>57.39</td>\n",
              "      <td>516.86</td>\n",
              "      <td>26.45</td>\n",
              "      <td>20.89</td>\n",
              "      <td>80.61</td>\n",
              "    </tr>\n",
              "    <tr>\n",
              "      <th>3</th>\n",
              "      <td>3</td>\n",
              "      <td>304.65</td>\n",
              "      <td>67.80</td>\n",
              "      <td>517.50</td>\n",
              "      <td>32.98</td>\n",
              "      <td>22.52</td>\n",
              "      <td>83.16</td>\n",
              "    </tr>\n",
              "    <tr>\n",
              "      <th>4</th>\n",
              "      <td>4</td>\n",
              "      <td>442.25</td>\n",
              "      <td>68.21</td>\n",
              "      <td>500.91</td>\n",
              "      <td>37.28</td>\n",
              "      <td>21.88</td>\n",
              "      <td>83.84</td>\n",
              "    </tr>\n",
              "    <tr>\n",
              "      <th>...</th>\n",
              "      <td>...</td>\n",
              "      <td>...</td>\n",
              "      <td>...</td>\n",
              "      <td>...</td>\n",
              "      <td>...</td>\n",
              "      <td>...</td>\n",
              "      <td>...</td>\n",
              "    </tr>\n",
              "    <tr>\n",
              "      <th>795</th>\n",
              "      <td>795</td>\n",
              "      <td>421.39</td>\n",
              "      <td>55.97</td>\n",
              "      <td>451.86</td>\n",
              "      <td>29.25</td>\n",
              "      <td>18.96</td>\n",
              "      <td>76.11</td>\n",
              "    </tr>\n",
              "    <tr>\n",
              "      <th>796</th>\n",
              "      <td>796</td>\n",
              "      <td>572.90</td>\n",
              "      <td>59.42</td>\n",
              "      <td>502.12</td>\n",
              "      <td>36.12</td>\n",
              "      <td>19.70</td>\n",
              "      <td>82.48</td>\n",
              "    </tr>\n",
              "    <tr>\n",
              "      <th>797</th>\n",
              "      <td>797</td>\n",
              "      <td>460.78</td>\n",
              "      <td>64.28</td>\n",
              "      <td>560.54</td>\n",
              "      <td>31.20</td>\n",
              "      <td>15.11</td>\n",
              "      <td>78.02</td>\n",
              "    </tr>\n",
              "    <tr>\n",
              "      <th>798</th>\n",
              "      <td>798</td>\n",
              "      <td>499.75</td>\n",
              "      <td>67.20</td>\n",
              "      <td>536.88</td>\n",
              "      <td>30.68</td>\n",
              "      <td>17.57</td>\n",
              "      <td>79.96</td>\n",
              "    </tr>\n",
              "    <tr>\n",
              "      <th>799</th>\n",
              "      <td>799</td>\n",
              "      <td>453.78</td>\n",
              "      <td>58.24</td>\n",
              "      <td>442.83</td>\n",
              "      <td>26.21</td>\n",
              "      <td>20.58</td>\n",
              "      <td>77.26</td>\n",
              "    </tr>\n",
              "  </tbody>\n",
              "</table>\n",
              "<p>800 rows × 7 columns</p>\n",
              "</div>"
            ],
            "text/plain": [
              "      ID   ILLUM  HUMID     CO2  SOUND   TEMP  RYTHM\n",
              "0      0  337.90  63.29  518.13  22.38  18.59  76.87\n",
              "1      1  342.96  63.19  488.85  37.36  20.41  80.49\n",
              "2      2  369.86  57.39  516.86  26.45  20.89  80.61\n",
              "3      3  304.65  67.80  517.50  32.98  22.52  83.16\n",
              "4      4  442.25  68.21  500.91  37.28  21.88  83.84\n",
              "..   ...     ...    ...     ...    ...    ...    ...\n",
              "795  795  421.39  55.97  451.86  29.25  18.96  76.11\n",
              "796  796  572.90  59.42  502.12  36.12  19.70  82.48\n",
              "797  797  460.78  64.28  560.54  31.20  15.11  78.02\n",
              "798  798  499.75  67.20  536.88  30.68  17.57  79.96\n",
              "799  799  453.78  58.24  442.83  26.21  20.58  77.26\n",
              "\n",
              "[800 rows x 7 columns]"
            ]
          },
          "metadata": {},
          "execution_count": 8
        }
      ]
    },
    {
      "cell_type": "code",
      "metadata": {
        "id": "8iW-fwB35uOH"
      },
      "source": [
        "respuestas=df_toround.to_csv(sep=',', encoding='utf-8',index = False)"
      ],
      "execution_count": null,
      "outputs": []
    },
    {
      "cell_type": "code",
      "metadata": {
        "id": "2C-Nqy1h5xSn",
        "outputId": "4da5b095-c694-4689-c20e-c4616c7bb97b",
        "colab": {
          "base_uri": "https://localhost:8080/"
        }
      },
      "source": [
        "print(respuestas)"
      ],
      "execution_count": null,
      "outputs": [
        {
          "output_type": "stream",
          "name": "stdout",
          "text": [
            "ID,ILLUM,HUMID,CO2,SOUND,TEMP,RYTHM\n",
            "0,337.9,63.29,518.13,22.38,18.59,76.87\n",
            "1,342.96,63.19,488.85,37.36,20.41,80.49\n",
            "2,369.86,57.39,516.86,26.45,20.89,80.61\n",
            "3,304.65,67.8,517.5,32.98,22.52,83.16\n",
            "4,442.25,68.21,500.91,37.28,21.88,83.84\n",
            "5,736.84,66.18,540.48,24.58,22.51,87.14\n",
            "6,460.0,59.88,460.3,49.72,18.76,80.76\n",
            "7,394.64,64.34,519.61,35.99,19.51,81.29\n",
            "8,430.41,65.21,512.5,31.24,20.32,81.3\n",
            "9,432.9,63.51,412.19,38.55,20.8,78.17\n",
            "10,408.16,71.85,538.17,36.91,20.73,83.99\n",
            "11,392.64,74.98,454.5,24.66,21.12,77.55\n",
            "12,284.79,64.23,518.91,19.08,21.03,78.55\n",
            "13,444.47,68.55,461.97,21.22,23.58,80.65\n",
            "14,397.99,64.42,518.99,27.85,21.56,82.07\n",
            "15,359.74,73.42,464.84,26.35,19.23,75.88\n",
            "16,393.78,69.13,477.95,30.23,19.65,78.16\n",
            "17,477.04,67.07,415.8,24.18,19.42,74.36\n",
            "18,446.17,62.14,519.08,36.81,22.01,84.87\n",
            "19,334.03,73.59,567.12,32.39,18.29,80.98\n",
            "20,390.99,62.29,463.81,31.64,21.92,80.33\n",
            "21,379.24,70.2,466.4,31.76,18.57,76.46\n",
            "22,346.23,67.93,474.49,24.74,19.98,76.79\n",
            "23,385.8,66.51,513.31,31.5,19.09,79.5\n",
            "24,447.93,65.34,546.72,40.63,19.49,84.14\n",
            "25,303.87,65.15,404.05,42.79,17.86,73.83\n",
            "26,540.21,68.05,493.24,32.5,19.77,81.05\n",
            "27,291.4,65.93,425.79,36.36,22.31,78.73\n",
            "28,620.03,68.95,526.59,26.17,18.71,81.11\n",
            "29,539.9,71.64,385.9,27.98,20.33,75.28\n",
            "30,501.58,73.71,471.35,28.08,21.27,80.4\n",
            "31,408.14,64.46,528.47,34.98,18.87,80.95\n",
            "32,510.28,69.13,483.31,31.45,21.64,82.2\n",
            "33,420.26,62.21,542.06,31.78,18.16,80.31\n",
            "34,562.05,66.58,529.8,27.36,18.32,80.46\n",
            "35,460.19,76.4,508.85,23.91,18.94,78.36\n",
            "36,593.98,64.49,528.8,36.1,16.84,80.74\n",
            "37,487.84,64.82,489.65,25.97,21.69,81.27\n",
            "38,404.1,68.71,424.02,20.83,19.49,73.45\n",
            "39,560.16,59.98,350.51,35.05,23.69,78.97\n",
            "40,389.87,63.12,455.93,33.71,21.15,79.42\n",
            "41,296.58,65.98,515.48,30.15,20.27,79.8\n",
            "42,614.66,71.6,499.02,31.81,20.51,82.84\n",
            "43,460.72,65.3,437.65,40.54,19.11,78.19\n",
            "44,535.67,73.66,473.12,26.63,18.52,77.35\n",
            "45,452.61,63.08,485.4,38.86,18.0,78.94\n",
            "46,555.29,61.89,499.86,31.96,19.98,81.69\n",
            "47,317.54,69.15,465.65,41.83,17.83,76.92\n",
            "48,588.07,70.26,535.14,30.66,21.44,85.28\n",
            "49,470.28,66.92,459.86,26.16,23.12,81.25\n",
            "50,472.96,64.18,468.82,20.55,22.58,80.0\n",
            "51,392.06,65.71,480.77,28.71,22.2,80.96\n",
            "52,427.03,69.68,484.94,29.08,22.29,81.71\n",
            "53,384.21,73.73,455.08,32.39,19.91,77.62\n",
            "54,391.89,68.5,530.84,33.31,20.41,82.36\n",
            "55,456.09,70.77,512.59,33.38,18.13,79.45\n",
            "56,437.62,67.61,474.2,25.86,18.57,76.3\n",
            "57,466.98,65.76,534.49,38.83,18.21,81.86\n",
            "58,485.25,67.79,516.33,28.68,20.34,81.58\n",
            "59,537.59,65.44,475.0,31.49,19.03,79.03\n",
            "60,444.27,62.92,499.52,36.85,20.55,82.15\n",
            "61,330.22,66.92,582.33,25.31,21.83,84.44\n",
            "62,420.54,65.19,364.76,26.38,19.98,72.23\n",
            "63,540.08,68.4,571.02,31.89,20.45,85.73\n",
            "64,595.71,69.46,465.41,45.9,19.55,82.59\n",
            "65,476.53,75.65,430.41,31.56,19.64,76.82\n",
            "66,434.93,68.88,521.83,23.59,21.13,81.26\n",
            "67,373.3,67.41,476.76,18.92,20.22,76.32\n",
            "68,451.94,65.02,475.38,28.72,21.1,80.02\n",
            "69,504.49,64.86,444.47,48.62,18.19,79.52\n",
            "70,512.86,71.0,478.32,31.0,16.27,75.63\n",
            "71,447.31,71.15,493.16,23.61,20.76,79.48\n",
            "72,394.76,71.24,426.7,24.42,20.27,75.11\n",
            "73,341.71,64.31,508.85,26.34,23.66,83.11\n",
            "74,433.73,67.77,499.65,26.88,23.45,83.45\n",
            "75,378.26,55.01,498.63,40.48,20.48,82.06\n",
            "76,357.03,58.56,567.36,40.73,20.07,84.95\n",
            "77,436.45,66.99,466.17,45.14,17.69,78.67\n",
            "78,353.34,65.32,480.15,32.37,20.16,78.88\n",
            "79,525.27,55.87,450.95,30.41,19.04,77.46\n",
            "80,523.32,64.91,440.55,32.51,17.71,75.77\n",
            "81,377.37,62.51,471.43,21.51,19.65,75.93\n",
            "82,433.7,70.68,452.34,32.45,18.46,76.31\n",
            "83,454.21,60.65,581.39,33.28,18.24,83.08\n",
            "84,321.04,65.06,567.23,35.07,20.4,83.84\n",
            "85,541.71,72.9,464.71,30.86,17.52,76.66\n",
            "86,530.04,73.96,474.97,39.19,18.29,79.61\n",
            "87,448.45,60.9,533.43,31.93,19.29,81.5\n",
            "88,459.17,75.15,520.53,30.9,21.43,83.24\n",
            "89,503.98,63.29,539.77,26.56,20.74,83.03\n",
            "90,384.22,72.32,482.21,29.79,19.91,78.5\n",
            "91,435.11,57.89,461.84,38.11,23.39,83.67\n",
            "92,574.64,62.62,413.03,36.55,17.19,75.08\n",
            "93,391.52,69.33,474.28,28.66,19.19,77.11\n",
            "94,575.74,69.49,535.75,26.81,18.6,81.12\n",
            "95,557.9,66.56,544.17,36.41,22.36,87.65\n",
            "96,334.6,70.09,482.17,30.02,18.97,76.94\n",
            "97,498.29,70.65,459.74,29.51,19.49,77.98\n",
            "98,501.62,68.71,511.43,31.34,19.82,81.42\n",
            "99,579.22,66.69,431.93,37.4,19.72,79.21\n",
            "100,448.4,66.23,514.71,24.92,19.24,79.09\n",
            "101,531.62,71.55,537.24,36.68,18.24,82.28\n",
            "102,390.08,58.53,522.9,32.26,22.15,83.75\n",
            "103,572.36,66.31,514.42,29.06,19.62,81.62\n",
            "104,328.96,68.82,494.08,34.0,18.66,77.92\n",
            "105,323.69,59.91,479.1,25.45,18.78,75.54\n",
            "106,374.45,70.26,458.52,24.34,21.51,77.96\n",
            "107,347.77,64.88,541.79,30.14,21.11,82.66\n",
            "108,398.15,63.84,489.03,32.1,21.3,81.07\n",
            "109,420.39,63.17,487.01,39.41,18.62,79.52\n",
            "110,592.96,65.28,546.55,26.76,19.75,83.18\n",
            "111,480.26,64.59,560.16,34.92,19.49,84.03\n",
            "112,369.64,56.3,473.15,50.34,21.89,84.25\n",
            "113,471.24,71.37,488.96,34.39,19.72,80.44\n",
            "114,381.42,79.34,511.85,28.42,15.85,75.0\n",
            "115,442.84,64.37,477.98,34.7,18.25,77.93\n",
            "116,323.09,64.88,568.97,39.86,18.7,82.92\n",
            "117,569.08,68.89,512.96,31.73,19.26,81.62\n",
            "118,369.6,66.19,502.72,26.74,21.83,81.03\n",
            "119,421.3,62.97,496.74,33.73,19.55,79.99\n",
            "120,535.0,60.27,482.38,34.0,20.97,82.13\n",
            "121,465.95,71.55,505.87,22.93,19.77,79.04\n",
            "122,430.0,60.6,435.48,36.77,16.43,73.9\n",
            "123,422.43,72.76,454.67,38.54,19.72,78.99\n",
            "124,453.62,67.26,515.87,24.59,21.18,81.4\n",
            "125,414.14,71.06,499.61,32.66,20.74,81.24\n",
            "126,432.26,68.92,412.23,23.17,23.46,78.21\n",
            "127,359.99,69.22,483.53,29.87,19.63,78.01\n",
            "128,627.61,60.03,455.89,35.5,19.77,80.63\n",
            "129,554.18,62.39,446.78,35.32,19.61,79.18\n",
            "130,409.12,76.03,510.27,20.23,17.37,75.35\n",
            "131,511.08,69.78,497.96,31.45,17.34,77.96\n",
            "132,357.12,66.26,517.37,23.78,22.7,82.09\n",
            "133,355.25,65.95,485.35,32.81,20.01,79.08\n",
            "134,429.12,60.87,477.85,33.3,20.19,79.76\n",
            "135,557.17,73.36,446.39,28.17,19.73,77.91\n",
            "136,411.58,66.31,452.23,34.99,20.04,78.42\n",
            "137,518.49,79.5,464.97,19.8,19.92,77.03\n",
            "138,297.61,62.24,515.2,22.94,22.06,80.45\n",
            "139,378.12,66.14,571.08,42.08,18.86,84.22\n",
            "140,367.24,59.6,507.72,30.81,21.22,81.36\n",
            "141,381.85,61.68,501.83,42.87,19.51,81.61\n",
            "142,361.7,65.07,480.62,35.34,18.24,77.34\n",
            "143,504.78,69.8,545.63,25.78,18.71,80.82\n",
            "144,430.55,56.25,515.5,17.42,21.41,79.99\n",
            "145,476.31,65.47,526.97,26.76,19.36,80.52\n",
            "146,392.52,69.73,516.43,38.94,20.01,82.27\n",
            "147,500.83,64.61,473.07,28.12,19.7,78.66\n",
            "148,473.59,78.51,488.88,24.23,21.65,80.69\n",
            "149,237.46,66.09,534.56,30.77,19.81,79.76\n",
            "150,469.67,66.64,462.93,23.88,18.59,75.68\n",
            "151,421.65,73.23,534.66,27.35,21.17,82.57\n",
            "152,589.59,67.14,534.84,32.02,19.22,82.97\n",
            "153,462.17,63.18,527.97,26.7,19.36,80.41\n",
            "154,397.05,71.37,482.76,19.48,19.75,76.43\n",
            "155,350.47,65.74,527.29,18.68,21.71,80.37\n",
            "156,325.3,75.0,474.86,19.74,22.93,79.04\n",
            "157,324.64,77.88,458.95,27.31,20.77,77.2\n",
            "158,406.37,62.19,508.18,35.25,21.18,82.62\n",
            "159,464.09,66.53,491.26,16.04,19.84,76.99\n",
            "160,517.5,71.95,557.98,33.03,20.8,85.45\n",
            "161,375.58,69.8,446.9,24.44,19.74,75.34\n",
            "162,394.49,64.66,558.34,38.87,21.31,85.95\n",
            "163,595.28,64.14,401.43,25.02,23.61,79.88\n",
            "164,517.18,71.05,483.34,29.58,19.3,79.18\n",
            "165,509.44,58.15,470.36,38.62,20.55,81.68\n",
            "166,599.02,54.57,460.97,25.17,20.25,79.11\n",
            "167,616.02,71.47,431.14,28.04,22.11,80.48\n",
            "168,460.0,61.93,473.12,35.32,20.51,80.61\n",
            "169,437.96,75.3,380.53,26.74,20.63,74.05\n",
            "170,470.32,63.46,481.21,37.82,23.29,84.86\n",
            "171,289.01,71.51,509.97,26.22,20.01,78.35\n",
            "172,311.43,59.78,521.93,37.32,19.91,81.28\n",
            "173,478.05,63.57,559.05,37.51,19.96,85.01\n",
            "174,572.54,64.12,409.65,35.41,21.7,79.9\n",
            "175,401.01,71.24,533.44,27.3,17.9,78.48\n",
            "176,424.53,74.32,461.45,36.76,18.65,77.76\n",
            "177,714.73,69.14,493.07,23.74,18.26,79.36\n",
            "178,313.0,75.98,477.77,19.5,21.64,77.51\n",
            "179,515.73,66.91,476.76,31.22,18.63,78.37\n",
            "180,455.93,61.99,506.51,32.54,22.52,84.07\n",
            "181,405.26,68.35,465.03,35.01,18.19,76.86\n",
            "182,437.38,73.91,534.46,33.05,19.07,81.41\n",
            "183,518.46,71.8,457.88,14.74,20.49,76.33\n",
            "184,362.01,65.47,482.52,34.04,20.14,79.39\n",
            "185,437.42,57.74,557.37,27.24,23.35,86.42\n",
            "186,391.05,72.58,502.93,35.08,19.97,80.75\n",
            "187,268.68,48.35,538.89,48.72,19.16,83.1\n",
            "188,537.95,68.93,545.48,28.47,21.76,85.24\n",
            "189,492.99,62.98,486.97,30.25,19.41,79.38\n",
            "190,460.93,67.67,503.34,22.38,18.52,77.3\n",
            "191,342.44,70.17,495.39,22.3,21.39,78.99\n",
            "192,326.93,60.68,462.63,36.4,18.96,77.1\n",
            "193,398.36,62.35,415.41,31.33,20.47,76.16\n",
            "194,428.97,66.0,518.9,38.26,21.44,84.31\n",
            "195,588.64,70.66,488.37,29.48,21.43,82.64\n",
            "196,459.19,66.43,538.83,40.0,17.34,81.22\n",
            "197,248.83,76.1,586.05,19.04,20.07,80.51\n",
            "198,468.52,66.42,445.46,23.26,23.38,80.22\n",
            "199,614.16,62.43,522.32,35.35,18.97,82.95\n",
            "200,217.19,67.34,523.36,28.92,17.62,76.06\n",
            "201,519.98,77.81,518.24,28.17,20.28,81.87\n",
            "202,399.42,64.49,531.98,39.22,19.05,82.08\n",
            "203,575.34,70.39,492.23,27.76,20.13,80.84\n",
            "204,397.58,58.33,524.54,22.02,19.91,79.28\n",
            "205,455.85,64.79,520.17,29.89,19.62,80.88\n",
            "206,432.86,63.74,474.36,35.54,21.52,81.61\n",
            "207,458.33,67.08,486.73,21.79,18.01,75.7\n",
            "208,412.26,58.03,496.2,37.32,20.18,81.31\n",
            "209,389.6,71.95,544.02,25.93,22.56,84.06\n",
            "210,264.39,78.16,532.68,24.76,20.49,79.54\n",
            "211,320.38,69.39,565.06,41.61,18.56,82.87\n",
            "212,367.05,66.98,465.92,28.93,20.23,77.69\n",
            "213,466.24,66.53,466.82,20.63,20.8,77.78\n",
            "214,426.86,76.55,616.29,19.7,19.61,83.5\n",
            "215,436.68,66.39,424.36,28.67,18.81,74.56\n",
            "216,414.93,73.62,517.96,32.82,18.36,79.45\n",
            "217,343.02,66.05,464.35,25.1,21.45,78.02\n",
            "218,459.88,70.51,489.49,41.08,16.77,78.24\n",
            "219,484.72,69.19,486.01,19.88,25.55,84.33\n",
            "220,646.06,59.45,524.49,30.94,20.7,84.53\n",
            "221,530.31,62.06,467.18,41.45,20.09,81.75\n",
            "222,373.3,57.7,446.38,40.37,21.58,80.58\n",
            "223,385.11,69.59,531.15,26.15,22.65,83.5\n",
            "224,443.84,65.02,492.14,29.6,20.41,80.17\n",
            "225,370.16,63.05,458.77,30.69,20.39,77.88\n",
            "226,546.99,75.72,506.59,35.77,20.47,83.27\n",
            "227,380.07,66.6,519.1,27.08,21.64,81.83\n",
            "228,510.21,65.82,489.01,34.67,21.17,82.58\n",
            "229,481.11,68.65,470.05,28.52,22.55,81.69\n",
            "230,440.4,62.95,414.24,19.05,18.72,72.07\n",
            "231,428.76,69.82,479.08,37.53,19.09,79.38\n",
            "232,537.59,66.61,462.24,27.22,19.41,77.97\n",
            "233,606.0,64.19,475.72,35.37,19.8,81.43\n",
            "234,479.8,66.06,452.18,32.45,21.86,80.74\n",
            "235,541.99,69.59,524.73,29.07,18.4,80.42\n",
            "236,442.35,59.77,417.0,34.76,23.66,81.09\n",
            "237,334.37,68.78,512.05,25.04,17.95,76.3\n",
            "238,420.81,66.64,499.72,32.45,19.83,80.21\n",
            "239,424.1,60.58,478.79,48.42,18.63,80.93\n",
            "240,536.02,70.5,504.49,26.3,19.06,79.54\n",
            "241,504.98,72.54,521.26,36.25,19.13,82.13\n",
            "242,331.37,63.05,523.39,29.65,22.22,82.73\n",
            "243,230.06,61.0,494.61,24.3,22.64,79.63\n",
            "244,390.65,71.36,581.54,22.67,18.64,80.79\n",
            "245,449.46,58.87,517.89,35.99,21.86,84.51\n",
            "246,553.59,69.28,566.66,28.73,21.53,86.27\n",
            "247,270.15,67.16,507.17,21.52,19.83,76.88\n",
            "248,353.68,65.49,533.47,27.47,19.79,80.22\n",
            "249,408.68,71.99,557.8,29.48,19.36,81.94\n",
            "250,559.77,70.85,556.73,27.1,19.5,83.14\n",
            "251,434.15,71.86,522.32,25.61,20.33,80.74\n",
            "252,314.57,69.58,487.6,39.96,20.69,80.98\n",
            "253,377.46,58.64,488.34,28.59,20.59,79.3\n",
            "254,556.07,70.83,517.61,31.35,19.95,82.45\n",
            "255,584.52,73.81,523.48,24.62,20.79,82.69\n",
            "256,410.3,64.98,507.4,14.88,23.6,81.41\n",
            "257,433.09,72.3,481.95,27.42,22.24,81.23\n",
            "258,406.69,66.25,527.64,32.52,21.55,83.52\n",
            "259,344.9,61.41,497.96,38.8,21.32,82.33\n",
            "260,460.2,68.13,566.33,28.6,19.93,83.4\n",
            "261,393.85,69.37,480.34,14.44,22.69,78.7\n",
            "262,448.18,58.29,474.53,30.47,18.06,76.75\n",
            "263,434.54,59.5,514.54,39.51,21.01,83.89\n",
            "264,457.74,60.48,468.0,29.51,21.77,80.64\n",
            "265,596.18,61.0,471.4,43.79,20.78,83.92\n",
            "266,414.52,59.37,503.81,41.71,20.0,82.39\n",
            "267,442.92,57.36,486.15,35.93,22.41,83.43\n",
            "268,526.76,66.93,500.62,36.41,17.14,79.01\n",
            "269,407.9,59.55,451.39,33.22,22.65,81.02\n",
            "270,287.57,72.2,488.35,31.14,20.13,78.34\n",
            "271,541.44,72.38,506.08,26.87,20.12,81.02\n",
            "272,487.97,64.67,533.74,31.34,20.45,83.16\n",
            "273,454.36,68.51,486.63,24.58,19.84,78.34\n",
            "274,470.35,65.62,586.57,40.24,18.41,85.09\n",
            "275,405.32,64.54,543.51,21.64,20.24,80.64\n",
            "276,370.82,58.18,535.54,36.87,21.24,84.06\n",
            "277,293.05,62.32,474.16,26.11,20.56,77.17\n",
            "278,468.85,80.2,584.84,15.84,16.4,77.81\n",
            "279,563.96,68.56,447.96,38.27,18.72,78.89\n",
            "280,503.3,68.35,444.71,30.26,20.45,78.52\n",
            "281,381.87,64.38,433.84,22.79,21.17,76.07\n",
            "282,399.73,65.52,513.91,33.51,21.67,83.08\n",
            "283,510.9,70.51,466.61,31.82,19.52,78.95\n",
            "284,362.03,74.21,499.52,22.02,18.01,75.41\n",
            "285,406.75,60.96,491.64,35.72,20.66,81.26\n",
            "286,460.06,63.75,474.93,32.74,20.63,80.33\n",
            "287,406.79,66.88,549.64,20.99,15.23,75.02\n",
            "288,515.0,71.55,463.39,29.72,20.39,79.43\n",
            "289,554.47,62.33,491.55,32.1,20.8,82.23\n",
            "290,349.79,71.3,444.22,43.17,19.79,78.7\n",
            "291,416.82,62.54,443.67,38.06,20.54,79.22\n",
            "292,513.57,62.9,513.24,38.19,20.99,84.35\n",
            "293,307.41,68.2,437.61,34.4,20.43,76.93\n",
            "294,412.93,64.04,508.25,23.43,22.25,81.6\n",
            "295,546.89,65.98,456.67,34.25,20.63,80.59\n",
            "296,346.8,67.1,439.82,22.53,18.92,73.34\n",
            "297,505.86,58.58,492.65,28.11,21.8,82.16\n",
            "298,393.53,75.43,523.27,36.34,23.33,85.99\n",
            "299,236.35,64.69,552.64,25.42,21.23,81.27\n",
            "300,449.09,64.73,551.04,25.05,18.94,80.65\n",
            "301,418.8,62.1,519.86,30.32,20.82,81.96\n",
            "302,589.61,64.47,439.54,36.64,19.72,79.56\n",
            "303,258.47,62.94,538.89,30.98,20.36,80.88\n",
            "304,467.0,66.46,559.27,31.58,19.55,83.26\n",
            "305,489.95,68.1,515.87,24.1,21.57,82.13\n",
            "306,316.88,69.17,488.31,30.68,22.35,81.13\n",
            "307,369.7,77.02,519.5,29.77,21.63,82.27\n",
            "308,469.79,60.12,482.82,32.07,21.8,82.07\n",
            "309,494.77,70.94,480.85,32.46,21.72,82.21\n",
            "310,420.17,73.65,440.93,25.16,17.18,72.65\n",
            "311,95.05,70.5,544.69,35.19,21.76,81.95\n",
            "312,496.22,70.26,532.63,36.39,18.07,81.42\n",
            "313,474.87,64.92,446.38,36.65,21.11,80.34\n",
            "314,433.25,70.51,543.55,34.22,19.31,82.34\n",
            "315,475.87,75.18,555.13,22.79,20.38,82.36\n",
            "316,321.82,67.79,556.93,35.92,18.83,81.66\n",
            "317,437.66,58.16,515.19,25.94,21.39,81.71\n",
            "318,474.76,62.63,448.13,24.54,17.86,74.26\n",
            "319,397.51,72.56,652.55,40.54,17.1,86.27\n",
            "320,310.1,66.95,488.29,30.86,20.43,78.86\n",
            "321,370.22,61.34,562.73,27.6,21.75,84.21\n",
            "322,524.82,75.46,489.42,30.76,20.17,80.82\n",
            "323,581.88,68.97,385.11,35.03,19.07,75.6\n",
            "324,428.06,76.39,464.54,22.11,22.14,79.12\n",
            "325,410.17,67.47,480.86,35.31,18.43,78.07\n",
            "326,395.91,63.34,461.53,31.04,20.49,78.48\n",
            "327,482.81,63.63,534.15,36.74,20.23,83.94\n",
            "328,322.37,65.59,452.43,37.82,18.16,75.88\n",
            "329,450.65,74.23,555.7,30.86,17.79,80.72\n",
            "330,403.55,64.98,457.0,36.39,15.64,73.74\n",
            "331,324.58,64.4,489.1,29.01,18.04,75.91\n",
            "332,379.16,56.39,520.41,43.48,20.17,83.43\n",
            "333,318.21,61.23,505.08,23.58,20.43,78.37\n",
            "334,642.67,66.7,498.99,29.42,22.93,85.47\n",
            "335,433.13,60.54,541.59,32.84,20.72,83.61\n",
            "336,355.45,62.17,546.76,29.01,19.92,81.38\n",
            "337,506.96,59.45,436.15,44.72,21.68,82.41\n",
            "338,418.36,58.45,485.78,25.31,23.6,82.44\n",
            "339,590.26,64.53,503.99,48.82,20.79,86.54\n",
            "340,307.56,63.46,526.1,45.23,18.43,81.3\n",
            "341,465.52,73.38,437.49,30.21,19.98,77.2\n",
            "342,432.21,74.73,525.83,19.77,22.35,82.1\n",
            "343,562.84,60.83,443.92,32.99,21.0,80.28\n",
            "344,494.91,60.73,431.2,24.33,21.18,77.41\n",
            "345,532.07,63.18,476.06,28.33,20.34,79.92\n",
            "346,426.22,60.09,499.07,30.71,20.49,80.66\n",
            "347,452.8,66.03,533.47,27.58,19.0,80.35\n",
            "348,403.18,64.44,455.99,32.71,17.68,75.33\n",
            "349,340.97,61.29,457.55,31.72,21.9,79.48\n",
            "350,528.42,75.49,533.11,30.94,16.58,78.96\n",
            "351,491.85,65.53,431.84,26.6,22.02,78.84\n",
            "352,448.38,63.41,437.13,39.02,21.61,80.65\n",
            "353,494.36,56.54,500.79,33.22,18.06,79.12\n",
            "354,392.54,66.17,494.35,27.44,21.69,80.82\n",
            "355,430.17,67.99,572.52,26.32,21.22,84.46\n",
            "356,480.51,61.09,527.99,16.82,19.76,79.11\n",
            "357,416.46,72.67,566.17,25.57,19.07,81.34\n",
            "358,382.9,64.17,471.22,30.33,19.04,77.01\n",
            "359,329.83,59.27,476.0,33.03,18.42,76.53\n",
            "360,329.67,69.36,524.0,25.93,18.57,77.76\n",
            "361,520.1,65.09,466.78,31.17,22.18,82.02\n",
            "362,336.29,75.93,498.95,37.92,19.92,80.49\n",
            "363,298.51,65.6,506.85,18.93,21.33,78.39\n",
            "364,552.24,61.75,429.71,25.31,22.14,79.24\n",
            "365,608.0,69.23,412.09,27.04,19.36,76.02\n",
            "366,565.83,74.6,471.81,23.99,16.95,75.25\n",
            "367,416.33,63.91,529.51,27.86,19.87,80.84\n",
            "368,414.18,71.9,533.35,32.34,20.72,82.89\n",
            "369,507.57,64.54,510.68,30.15,18.55,79.73\n",
            "370,454.25,69.63,484.57,27.65,18.83,77.66\n",
            "371,420.08,67.17,569.23,30.59,17.7,80.94\n",
            "372,435.76,70.59,462.48,14.51,18.87,73.78\n",
            "373,427.41,59.39,492.56,42.71,18.48,80.37\n",
            "374,458.83,65.17,475.88,34.03,17.78,77.31\n",
            "375,528.04,66.94,466.43,24.43,22.27,80.86\n",
            "376,268.61,68.05,493.37,22.66,20.46,77.11\n",
            "377,494.19,74.83,462.08,36.64,20.71,80.89\n",
            "378,517.06,61.62,499.56,30.49,21.48,82.73\n",
            "379,391.31,71.72,480.77,24.79,18.39,75.74\n",
            "380,494.38,70.29,443.03,26.54,20.02,77.11\n",
            "381,404.73,70.39,486.97,22.93,19.85,77.53\n",
            "382,410.85,67.63,558.82,32.5,14.96,77.5\n",
            "383,364.22,66.13,562.83,28.09,18.98,81.03\n",
            "384,447.95,73.26,462.81,27.88,19.12,76.86\n",
            "385,505.98,66.91,454.61,34.35,21.7,81.32\n",
            "386,330.27,67.88,432.49,19.48,18.37,71.55\n",
            "387,479.19,68.32,413.28,34.93,19.13,76.04\n",
            "388,532.95,72.25,480.65,19.73,21.04,79.28\n",
            "389,316.49,70.16,483.13,35.01,17.5,76.08\n",
            "390,469.57,75.84,542.75,29.47,18.92,81.28\n",
            "391,741.84,67.76,446.12,28.2,16.27,75.79\n",
            "392,390.23,70.23,497.86,35.61,20.4,81.09\n",
            "393,426.37,64.91,492.65,23.22,20.91,79.34\n",
            "394,454.12,58.25,431.13,42.05,20.55,79.76\n",
            "395,203.14,61.21,498.55,29.56,21.53,79.31\n",
            "396,384.44,68.52,538.6,25.84,20.43,81.23\n",
            "397,409.37,57.33,520.93,31.43,23.56,85.32\n",
            "398,481.15,59.99,457.59,30.32,23.32,82.31\n",
            "399,428.72,67.2,510.11,41.88,17.76,80.29\n",
            "400,292.28,65.71,553.17,44.82,18.88,82.98\n",
            "401,395.26,68.67,570.49,30.0,19.91,83.2\n",
            "402,459.82,59.56,507.04,28.09,18.62,78.72\n",
            "403,557.76,70.36,437.08,22.03,18.92,75.28\n",
            "404,415.45,63.55,498.69,35.66,18.39,79.06\n",
            "405,469.26,62.85,483.0,29.33,23.46,83.46\n",
            "406,584.2,57.79,474.05,32.05,21.14,82.02\n",
            "407,400.09,73.32,506.2,35.08,17.53,78.18\n",
            "408,418.56,57.89,489.29,26.67,22.93,82.11\n",
            "409,458.33,65.9,522.88,23.15,23.82,84.59\n",
            "410,263.51,70.25,470.52,26.14,19.62,75.59\n",
            "411,387.12,62.15,529.71,35.33,18.97,80.98\n",
            "412,429.9,64.16,471.81,27.98,22.38,80.95\n",
            "413,485.29,61.35,425.84,41.3,19.12,78.0\n",
            "414,325.1,72.26,477.03,21.87,18.62,74.55\n",
            "415,497.27,69.54,482.41,22.6,20.78,79.27\n",
            "416,333.18,74.4,592.07,33.03,19.99,84.36\n",
            "417,461.66,67.35,448.67,28.78,19.98,77.45\n",
            "418,510.32,65.63,481.27,30.6,19.34,79.25\n",
            "419,374.1,66.93,559.07,27.91,19.07,81.0\n",
            "420,306.29,78.42,505.82,27.04,20.83,79.44\n",
            "421,493.73,67.91,520.21,32.12,21.53,83.93\n",
            "422,284.03,73.11,510.01,22.42,22.13,80.02\n",
            "423,443.08,63.09,425.4,42.13,19.31,77.93\n",
            "424,330.09,65.08,540.57,23.11,20.56,80.38\n",
            "425,409.61,61.32,517.2,28.91,20.92,81.56\n",
            "426,353.19,67.47,492.75,23.03,21.85,79.64\n",
            "427,354.52,69.43,525.45,27.06,20.44,80.5\n",
            "428,358.65,69.87,456.79,34.54,20.58,78.65\n",
            "429,448.91,59.06,494.91,36.2,19.79,80.95\n",
            "430,556.38,67.67,505.58,31.46,21.69,83.88\n",
            "431,393.15,79.34,524.46,24.26,18.49,78.02\n",
            "432,383.81,69.79,536.12,28.87,18.94,79.96\n",
            "433,333.18,67.19,455.99,24.44,19.5,75.09\n",
            "434,523.61,72.49,457.0,17.54,20.04,76.37\n",
            "435,538.14,68.93,517.35,31.1,21.45,83.95\n",
            "436,467.53,67.4,518.1,31.17,20.73,82.44\n",
            "437,413.9,66.99,459.17,37.49,18.5,77.5\n",
            "438,471.18,61.91,474.56,38.21,20.92,81.85\n",
            "439,387.67,57.6,504.14,32.28,23.46,84.29\n",
            "440,508.92,71.72,450.16,28.76,22.54,80.99\n",
            "441,375.08,70.47,541.09,28.7,22.64,84.4\n",
            "442,279.56,60.16,498.96,27.71,21.76,80.02\n",
            "443,644.33,69.11,493.47,23.08,19.56,80.03\n",
            "444,348.68,54.74,505.62,26.22,20.58,79.41\n",
            "445,471.51,64.38,457.5,36.12,22.56,82.46\n",
            "446,318.17,67.54,481.72,26.96,20.91,78.39\n",
            "447,502.92,66.86,503.88,28.45,18.2,78.59\n",
            "448,344.73,69.33,582.97,25.66,20.71,83.39\n",
            "449,512.38,64.85,550.13,28.24,20.16,83.31\n",
            "450,396.79,69.0,537.58,28.73,17.9,78.93\n",
            "451,304.98,65.86,504.93,37.61,19.34,79.73\n",
            "452,519.14,75.88,508.54,38.76,18.17,81.0\n",
            "453,552.48,61.77,472.53,37.27,19.99,81.31\n",
            "454,294.6,64.7,465.8,26.83,21.87,78.42\n",
            "455,458.81,65.05,468.79,30.32,19.92,78.7\n",
            "456,442.59,64.02,473.26,34.16,20.23,79.88\n",
            "457,389.2,66.37,467.75,36.57,22.49,82.15\n",
            "458,492.9,64.18,503.19,30.89,20.42,81.51\n",
            "459,463.58,68.0,557.1,36.5,17.01,81.13\n",
            "460,505.58,64.75,532.24,33.8,18.59,81.59\n",
            "461,460.39,63.06,472.57,30.22,19.99,78.97\n",
            "462,317.47,72.69,533.85,19.6,20.48,79.12\n",
            "463,518.51,63.58,488.63,38.7,18.89,80.79\n",
            "464,334.81,74.82,435.7,29.56,20.44,76.17\n",
            "465,309.68,64.47,532.05,26.87,19.79,79.58\n",
            "466,514.45,70.54,563.74,40.73,18.68,84.78\n",
            "467,399.29,62.45,454.53,28.7,20.99,78.27\n",
            "468,418.03,71.3,587.47,35.02,19.88,85.27\n",
            "469,454.94,73.46,468.75,27.47,21.16,79.53\n",
            "470,485.68,63.36,510.03,30.29,20.16,81.37\n",
            "471,435.74,62.95,489.69,29.07,20.35,79.79\n",
            "472,476.45,70.5,490.27,41.75,17.86,79.85\n",
            "473,466.82,61.01,490.91,26.77,23.16,82.98\n",
            "474,481.99,68.66,482.62,26.82,22.07,81.46\n",
            "475,435.44,69.09,537.99,25.66,20.38,81.63\n",
            "476,389.91,60.34,531.11,26.98,20.17,80.82\n",
            "477,523.11,65.72,512.93,34.87,21.54,84.42\n",
            "478,391.83,67.46,488.67,29.37,20.18,79.14\n",
            "479,406.42,67.79,512.32,20.78,22.9,81.97\n",
            "480,421.65,62.86,470.51,33.73,19.56,78.66\n",
            "481,514.33,69.9,477.86,40.09,19.73,81.45\n",
            "482,407.8,58.63,443.47,32.62,20.02,77.44\n",
            "483,482.6,68.85,501.61,33.95,22.43,84.27\n",
            "484,431.37,68.28,497.87,35.93,18.49,79.36\n",
            "485,399.1,63.06,452.42,29.51,18.69,75.64\n",
            "486,530.73,69.51,479.04,26.05,16.1,74.68\n",
            "487,524.2,66.22,490.26,35.69,17.87,79.15\n",
            "488,392.01,60.81,524.51,32.14,20.21,81.57\n",
            "489,493.01,68.37,480.9,30.87,23.26,83.67\n",
            "490,440.35,61.77,495.02,15.21,24.43,82.11\n",
            "491,448.51,71.69,443.51,30.25,18.72,75.88\n",
            "492,350.6,63.68,499.58,25.63,21.78,80.4\n",
            "493,326.68,68.79,468.03,14.06,23.39,78.11\n",
            "494,582.22,66.8,484.85,38.42,21.54,84.29\n",
            "495,484.27,59.6,417.33,38.51,20.98,79.16\n",
            "496,448.66,60.13,506.07,36.63,21.5,83.6\n",
            "497,445.88,70.61,562.22,34.35,19.37,83.53\n",
            "498,339.53,70.17,489.89,42.38,19.48,80.42\n",
            "499,489.59,61.64,501.62,28.5,21.92,82.67\n",
            "500,340.86,67.38,474.52,29.56,18.51,75.98\n",
            "501,334.74,55.75,476.83,33.06,20.96,79.58\n",
            "502,473.07,66.48,549.21,21.4,20.91,82.37\n",
            "503,411.77,72.13,528.15,32.63,20.19,82.04\n",
            "504,317.35,73.77,530.84,33.95,20.75,82.11\n",
            "505,408.27,53.59,494.54,37.19,19.29,80.13\n",
            "506,350.99,67.21,519.39,31.17,19.69,80.09\n",
            "507,346.08,66.22,470.84,35.91,22.82,82.12\n",
            "508,641.82,70.85,492.04,28.49,20.03,81.55\n",
            "509,389.34,64.62,501.71,28.74,20.31,79.81\n",
            "510,411.99,69.55,471.91,20.41,19.97,76.47\n",
            "511,451.17,71.87,466.65,30.01,20.43,79.04\n",
            "512,563.82,66.71,445.79,17.58,21.08,77.42\n",
            "513,619.39,76.64,458.11,31.75,19.4,79.48\n",
            "514,408.6,63.62,531.98,29.54,21.62,83.25\n",
            "515,539.34,56.89,411.92,27.9,21.82,78.33\n",
            "516,256.53,73.87,564.35,27.38,21.67,82.98\n",
            "517,354.28,73.41,579.26,34.28,18.58,82.53\n",
            "518,507.92,72.54,519.55,23.02,17.95,78.08\n",
            "519,425.68,66.17,541.99,40.96,22.84,87.63\n",
            "520,552.64,70.45,482.21,30.5,17.82,77.95\n",
            "521,391.95,65.05,498.99,31.18,17.94,77.43\n",
            "522,508.16,73.45,569.21,26.69,19.36,83.01\n",
            "523,526.59,71.63,509.25,26.35,18.41,78.94\n",
            "524,433.87,70.29,450.55,23.28,18.17,74.07\n",
            "525,376.8,73.01,429.84,30.99,18.3,74.09\n",
            "526,480.65,67.05,519.77,40.31,19.44,82.96\n",
            "527,525.87,70.53,515.47,17.45,22.38,82.11\n",
            "528,317.23,63.66,468.44,21.87,19.69,75.27\n",
            "529,517.12,70.51,494.43,31.88,20.81,81.96\n",
            "530,428.86,69.7,521.64,36.13,19.63,81.92\n",
            "531,470.93,62.66,442.87,23.06,18.92,74.89\n",
            "532,344.61,65.31,558.47,40.16,22.06,86.57\n",
            "533,406.71,61.05,471.32,34.57,17.45,76.25\n",
            "534,418.22,68.44,541.29,27.67,19.88,81.44\n",
            "535,222.05,65.76,516.31,24.42,21.34,79.18\n",
            "536,319.14,64.41,475.5,39.0,18.4,77.55\n",
            "537,396.56,62.55,496.34,24.53,17.98,76.07\n",
            "538,514.78,75.08,580.69,31.55,19.69,85.01\n",
            "539,599.67,72.14,516.85,23.6,20.01,81.4\n",
            "540,463.5,64.16,433.55,27.36,21.51,78.19\n",
            "541,445.1,76.24,454.04,19.93,19.33,75.05\n",
            "542,391.45,64.43,458.14,31.47,18.49,76.02\n",
            "543,413.52,66.8,547.91,25.42,19.95,81.37\n",
            "544,302.26,69.76,559.13,33.05,20.03,82.4\n",
            "545,191.13,66.46,505.33,38.35,24.47,84.69\n",
            "546,382.61,63.93,441.07,33.91,17.46,74.33\n",
            "547,396.79,60.78,509.56,27.24,20.48,80.2\n",
            "548,553.94,68.17,528.24,26.99,20.03,82.21\n",
            "549,337.59,69.07,436.66,28.45,22.64,78.58\n",
            "550,392.91,69.08,486.31,27.45,21.54,80.23\n",
            "551,473.42,73.04,537.09,29.66,20.79,83.25\n",
            "552,414.09,63.77,543.28,19.36,23.75,84.36\n",
            "553,323.12,60.26,555.3,29.45,18.02,79.37\n",
            "554,407.74,65.87,462.36,25.91,21.66,78.99\n",
            "555,454.17,68.73,562.74,33.79,22.23,86.86\n",
            "556,369.88,56.43,401.18,26.97,19.61,73.27\n",
            "557,419.24,66.64,449.75,37.67,19.33,78.07\n",
            "558,447.09,74.98,467.79,16.6,21.02,77.09\n",
            "559,334.51,61.74,529.77,32.39,18.39,79.18\n",
            "560,571.56,68.59,423.89,37.54,20.12,79.21\n",
            "561,429.85,63.52,474.59,30.8,20.47,79.43\n",
            "562,415.38,67.12,470.44,30.9,19.88,78.4\n",
            "563,491.46,64.29,529.45,23.17,19.01,79.68\n",
            "564,400.3,72.74,532.7,31.47,20.29,82.04\n",
            "565,424.15,64.17,478.11,24.49,19.35,77.0\n",
            "566,516.41,71.69,463.73,38.38,17.17,77.43\n",
            "567,309.84,68.72,515.29,18.31,18.57,75.6\n",
            "568,295.59,65.07,487.57,26.88,25.89,84.24\n",
            "569,487.21,73.16,516.39,27.69,17.91,78.58\n",
            "570,334.26,65.85,476.42,32.64,19.82,78.14\n",
            "571,317.09,56.22,537.43,40.14,21.03,84.0\n",
            "572,512.91,72.64,470.48,25.31,16.81,74.73\n",
            "573,414.05,67.71,533.11,36.5,18.14,80.7\n",
            "574,540.5,70.33,449.13,40.71,17.44,77.7\n",
            "575,376.09,59.06,409.51,32.91,24.04,80.09\n",
            "576,396.42,63.33,494.98,36.19,22.0,82.98\n",
            "577,460.97,61.55,483.66,37.92,18.73,79.6\n",
            "578,521.01,70.81,501.11,25.58,22.17,82.68\n",
            "579,418.91,73.85,403.89,27.68,18.6,72.88\n",
            "580,378.56,62.32,517.29,34.14,18.84,79.86\n",
            "581,339.69,60.03,457.73,37.32,22.23,80.97\n",
            "582,460.84,65.38,469.39,23.78,19.86,77.38\n",
            "583,460.36,71.84,480.97,25.65,21.26,79.97\n",
            "584,361.73,62.69,606.54,26.98,22.61,87.25\n",
            "585,516.95,64.91,571.34,32.14,18.67,83.48\n",
            "586,423.43,73.03,547.52,30.43,19.15,81.51\n",
            "587,408.48,72.34,541.4,28.96,19.65,81.33\n",
            "588,533.41,62.46,498.38,26.84,21.25,81.85\n",
            "589,514.2,73.91,517.72,29.86,20.97,82.92\n",
            "590,363.72,70.34,455.34,19.85,21.66,76.97\n",
            "591,548.6,59.28,495.5,32.61,19.13,80.53\n",
            "592,319.63,64.05,479.97,42.39,21.05,81.54\n",
            "593,452.09,68.04,497.41,26.48,20.92,80.5\n",
            "594,588.84,59.48,490.26,38.81,19.61,82.46\n",
            "595,305.59,66.34,494.9,40.45,18.97,79.36\n",
            "596,331.22,68.92,498.02,30.24,18.93,77.71\n",
            "597,408.05,64.89,503.25,35.37,19.18,80.08\n",
            "598,518.58,72.27,537.05,22.27,21.5,83.07\n",
            "599,434.14,67.18,512.59,34.33,20.0,81.58\n",
            "600,452.69,61.15,516.44,26.03,18.61,78.71\n",
            "601,417.02,63.26,510.1,33.36,20.72,81.92\n",
            "602,513.18,66.79,467.57,36.01,20.32,80.79\n",
            "603,323.58,70.01,581.43,25.41,19.42,81.54\n",
            "604,457.41,64.64,449.34,26.55,19.85,76.85\n",
            "605,451.79,64.81,479.34,25.42,18.74,76.82\n",
            "606,501.35,60.53,491.91,33.56,20.06,81.13\n",
            "607,363.12,64.42,541.6,25.98,15.93,75.95\n",
            "608,429.43,54.46,466.26,37.87,21.44,81.52\n",
            "609,601.69,62.27,513.35,34.59,21.75,85.44\n",
            "610,507.02,67.15,465.89,22.05,15.84,72.66\n",
            "611,492.1,64.26,487.15,29.75,18.62,78.36\n",
            "612,502.24,59.73,508.08,37.84,20.06,82.82\n",
            "613,466.69,74.42,450.15,35.7,21.82,81.09\n",
            "614,510.18,62.33,489.15,36.04,18.77,80.07\n",
            "615,415.71,72.92,578.54,33.81,20.81,85.63\n",
            "616,554.6,68.23,451.62,36.05,15.29,74.55\n",
            "617,382.99,75.37,569.44,29.35,20.15,83.17\n",
            "618,549.94,66.77,541.59,27.54,17.67,80.22\n",
            "619,396.01,65.32,506.07,33.56,17.7,78.02\n",
            "620,426.43,64.94,511.59,22.77,19.05,78.06\n",
            "621,496.46,71.67,506.02,23.78,18.54,78.1\n",
            "622,468.18,60.39,499.39,37.14,20.35,82.22\n",
            "623,414.54,63.83,471.22,37.01,20.2,80.01\n",
            "624,604.84,63.33,425.31,24.95,20.86,78.0\n",
            "625,408.96,64.41,410.76,40.17,19.99,77.22\n",
            "626,403.39,69.81,481.78,26.01,19.19,77.09\n",
            "627,410.23,67.59,523.99,34.1,20.46,82.41\n",
            "628,504.22,70.2,512.51,21.19,18.79,78.29\n",
            "629,542.63,66.71,529.89,28.96,19.3,81.72\n",
            "630,480.15,62.97,624.89,35.84,19.7,87.79\n",
            "631,502.93,75.33,455.46,27.95,16.75,74.31\n",
            "632,346.62,73.09,472.38,17.08,21.38,76.8\n",
            "633,417.19,55.89,443.52,37.17,20.82,79.37\n",
            "634,564.62,60.59,450.62,33.33,19.2,78.61\n",
            "635,465.63,57.48,410.19,46.61,20.4,79.53\n",
            "636,522.57,64.45,440.81,26.73,21.39,78.91\n",
            "637,365.65,66.42,469.64,30.11,20.83,78.79\n",
            "638,407.76,62.65,463.12,30.13,21.95,80.2\n",
            "639,490.16,68.75,446.8,19.41,19.02,74.68\n",
            "640,511.14,73.54,514.14,22.92,17.48,77.27\n",
            "641,275.67,66.66,519.74,32.57,20.25,80.26\n",
            "642,251.43,66.27,521.58,24.27,19.74,77.86\n",
            "643,416.07,70.99,636.3,37.93,16.37,84.26\n",
            "644,477.3,68.91,535.76,26.58,16.36,77.45\n",
            "645,557.14,64.2,510.56,28.48,19.39,80.88\n",
            "646,452.28,68.4,354.59,41.63,19.81,74.86\n",
            "647,508.39,72.28,443.12,34.34,20.32,79.15\n",
            "648,626.57,75.41,507.22,18.13,20.11,80.22\n",
            "649,517.51,63.42,501.32,18.01,17.84,76.12\n",
            "650,513.48,62.26,496.91,33.46,21.43,83.09\n",
            "651,386.46,65.68,437.97,35.8,20.89,78.57\n",
            "652,553.89,58.9,489.98,35.24,19.98,81.81\n",
            "653,493.2,59.25,549.43,35.52,19.09,83.27\n",
            "654,330.99,61.56,487.47,33.39,18.96,77.83\n",
            "655,546.47,78.43,514.34,13.34,19.01,77.53\n",
            "656,438.74,66.06,484.49,30.68,18.61,77.84\n",
            "657,434.62,65.12,540.18,34.84,19.99,83.1\n",
            "658,440.1,67.33,524.27,20.5,19.66,79.11\n",
            "659,473.19,63.82,523.85,33.85,18.39,80.6\n",
            "660,376.68,61.21,559.33,31.79,19.61,82.44\n",
            "661,568.0,68.15,477.54,22.12,21.23,80.18\n",
            "662,488.49,61.43,414.28,29.2,20.26,76.37\n",
            "663,372.81,64.95,512.9,30.04,19.27,79.27\n",
            "664,552.45,64.23,545.09,27.6,21.09,84.42\n",
            "665,408.85,57.4,479.23,26.92,23.62,82.35\n",
            "666,362.21,67.24,521.25,32.25,19.57,80.37\n",
            "667,476.88,67.59,474.33,24.12,22.51,80.95\n",
            "668,355.96,68.63,523.29,23.45,18.93,77.93\n",
            "669,337.81,66.86,563.76,34.91,17.24,80.13\n",
            "670,417.91,74.42,503.08,39.05,18.72,80.37\n",
            "671,474.68,67.83,477.05,29.1,20.1,79.25\n",
            "672,463.95,69.81,490.72,28.76,19.16,78.69\n",
            "673,378.55,61.62,448.47,22.14,21.73,77.31\n",
            "674,476.15,75.47,497.76,30.76,18.49,78.79\n",
            "675,389.66,57.28,447.41,31.04,23.58,81.28\n",
            "676,502.85,63.61,528.29,34.98,21.35,84.8\n",
            "677,497.11,69.16,558.35,24.09,22.63,85.62\n",
            "678,379.79,69.86,545.41,26.84,18.9,79.95\n",
            "679,346.56,73.59,554.21,24.13,22.36,83.55\n",
            "680,414.04,72.84,565.88,21.7,19.74,81.32\n",
            "681,352.26,60.77,508.31,26.31,21.8,81.02\n",
            "682,500.72,67.13,537.88,27.35,21.69,84.16\n",
            "683,347.56,56.8,499.61,37.12,20.55,81.21\n",
            "684,314.92,61.62,467.21,41.21,19.43,78.71\n",
            "685,307.25,62.31,527.04,38.03,21.68,83.7\n",
            "686,501.56,67.32,462.4,29.37,18.62,77.11\n",
            "687,445.37,68.21,520.6,24.84,20.57,80.9\n",
            "688,254.0,59.79,546.05,31.44,19.71,80.53\n",
            "689,324.91,69.28,467.7,19.54,19.22,74.31\n",
            "690,437.67,64.5,452.2,33.64,21.86,80.54\n",
            "691,498.77,62.01,536.85,28.49,22.17,84.87\n",
            "692,413.45,62.18,457.21,34.95,18.69,77.12\n",
            "693,420.23,69.05,537.76,28.42,17.77,78.97\n",
            "694,577.42,59.65,445.78,36.23,19.5,79.42\n",
            "695,388.17,68.09,489.09,26.66,17.81,75.83\n",
            "696,349.36,71.26,489.71,33.67,21.92,81.63\n",
            "697,490.52,76.76,479.59,23.33,21.19,79.67\n",
            "698,484.76,67.23,548.47,23.38,20.68,82.58\n",
            "699,286.85,62.83,542.19,39.77,22.88,86.01\n",
            "700,405.17,71.79,462.71,30.38,22.6,80.96\n",
            "701,555.7,68.34,498.53,33.89,16.8,78.3\n",
            "702,335.1,65.71,431.51,37.33,19.18,76.02\n",
            "703,419.66,78.27,517.67,32.9,17.71,78.75\n",
            "704,440.15,68.74,489.35,26.08,19.22,77.91\n",
            "705,512.7,67.44,518.06,32.46,19.5,81.72\n",
            "706,407.44,56.79,560.7,30.4,21.27,84.48\n",
            "707,466.05,65.37,502.1,23.48,22.9,82.6\n",
            "708,437.0,70.58,570.01,30.0,20.62,84.43\n",
            "709,555.17,72.11,506.37,27.02,19.89,80.94\n",
            "710,427.35,74.58,512.26,23.92,21.29,80.94\n",
            "711,443.27,61.04,531.0,33.55,20.07,82.55\n",
            "712,477.47,67.03,639.14,25.28,18.34,84.82\n",
            "713,415.28,65.16,568.23,29.44,21.55,85.09\n",
            "714,402.89,73.44,548.27,14.45,22.24,81.77\n",
            "715,419.47,60.4,498.3,13.49,21.77,78.63\n",
            "716,486.53,62.02,485.3,39.77,19.59,81.32\n",
            "717,364.0,61.41,553.77,28.59,17.81,79.29\n",
            "718,402.67,66.53,542.36,17.53,20.61,80.18\n",
            "719,397.77,68.7,550.07,34.29,21.48,84.85\n",
            "720,486.09,62.72,510.67,40.89,19.78,83.06\n",
            "721,575.27,70.91,446.82,33.55,19.87,79.35\n",
            "722,484.73,60.93,496.54,35.5,17.47,78.57\n",
            "723,460.33,75.35,503.7,28.5,22.02,82.59\n",
            "724,380.75,71.29,515.56,31.02,20.18,80.74\n",
            "725,425.79,72.85,476.53,32.25,16.59,75.26\n",
            "726,479.27,64.91,484.62,29.74,22.97,83.16\n",
            "727,442.88,66.29,441.67,36.16,18.19,76.28\n",
            "728,497.3,64.49,447.6,24.38,18.83,75.56\n",
            "729,343.97,59.26,554.5,29.39,17.57,79.0\n",
            "730,479.81,65.8,499.66,39.94,15.96,77.8\n",
            "731,342.94,62.11,546.14,29.49,18.66,79.85\n",
            "732,394.31,66.79,473.17,34.26,20.24,79.41\n",
            "733,356.18,72.63,504.18,27.64,19.07,77.94\n",
            "734,444.04,72.3,483.75,33.21,20.02,80.0\n",
            "735,462.31,65.08,426.0,38.66,22.71,81.43\n",
            "736,474.26,67.05,517.02,36.02,20.37,82.99\n",
            "737,498.71,63.22,469.06,35.23,18.38,78.3\n",
            "738,510.89,68.68,558.96,23.87,18.68,81.16\n",
            "739,452.14,75.57,579.45,30.76,18.06,82.25\n",
            "740,538.8,57.02,494.62,27.38,18.15,78.21\n",
            "741,528.06,64.93,522.08,40.25,20.71,85.04\n",
            "742,545.65,66.14,483.97,31.65,19.26,79.87\n",
            "743,347.88,71.73,570.28,29.41,20.86,83.69\n",
            "744,369.44,71.3,569.25,39.05,20.54,85.39\n",
            "745,308.65,70.92,479.08,33.87,17.21,75.22\n",
            "746,488.99,54.1,446.35,22.87,23.29,80.3\n",
            "747,463.37,57.59,538.41,33.21,20.37,83.42\n",
            "748,543.09,72.81,480.47,24.06,19.15,78.03\n",
            "749,381.4,68.25,478.52,32.08,19.94,78.77\n",
            "750,510.41,65.83,496.33,30.64,17.64,78.06\n",
            "751,426.19,64.17,533.04,32.53,22.05,84.58\n",
            "752,518.98,57.0,484.65,28.09,20.19,80.01\n",
            "753,440.74,64.08,453.08,38.31,21.48,81.1\n",
            "754,420.01,68.1,541.42,41.73,20.41,84.86\n",
            "755,478.61,67.1,557.23,36.09,19.13,83.68\n",
            "756,377.94,69.84,500.01,30.85,20.59,80.35\n",
            "757,535.46,64.48,550.75,34.89,20.22,84.96\n",
            "758,370.64,66.18,567.97,23.87,17.62,78.94\n",
            "759,303.03,60.16,469.35,34.15,21.03,79.16\n",
            "760,510.95,66.79,476.89,24.49,22.29,81.26\n",
            "761,412.93,59.52,530.76,41.73,18.13,81.59\n",
            "762,459.98,67.28,500.75,27.41,21.71,81.86\n",
            "763,344.15,69.08,525.81,21.81,19.94,78.79\n",
            "764,408.81,65.43,460.45,39.54,18.36,77.76\n",
            "765,586.04,80.14,435.41,27.05,20.68,78.53\n",
            "766,415.48,57.22,524.17,19.48,20.04,79.09\n",
            "767,569.1,70.99,521.69,22.01,16.21,76.6\n",
            "768,506.88,61.57,433.56,33.86,20.03,78.21\n",
            "769,428.22,66.13,497.76,22.18,20.61,79.06\n",
            "770,538.25,65.59,529.91,38.92,19.75,84.17\n",
            "771,446.19,67.78,523.41,34.14,20.21,82.47\n",
            "772,305.19,63.24,477.79,32.77,21.56,79.96\n",
            "773,481.5,75.27,455.82,30.57,18.1,76.19\n",
            "774,381.06,76.08,511.15,33.21,19.95,80.68\n",
            "775,468.81,69.15,570.02,30.46,19.78,83.88\n",
            "776,381.0,71.34,458.59,36.56,19.14,77.69\n",
            "777,409.41,61.14,476.53,37.29,19.1,79.01\n",
            "778,383.94,71.63,507.82,15.61,21.41,78.75\n",
            "779,513.91,59.8,546.16,25.69,19.86,82.26\n",
            "780,456.9,70.93,502.55,28.34,17.39,77.08\n",
            "781,533.45,61.13,428.63,31.21,18.76,76.23\n",
            "782,492.75,71.5,495.72,32.11,18.98,79.69\n",
            "783,330.17,67.71,508.71,30.33,18.58,77.86\n",
            "784,412.06,66.57,522.75,22.88,20.72,80.45\n",
            "785,360.91,71.21,450.57,42.88,21.18,80.7\n",
            "786,378.16,58.82,462.9,33.73,18.56,76.65\n",
            "787,310.41,69.04,527.76,32.25,18.41,78.82\n",
            "788,504.03,71.49,518.46,40.84,19.65,83.49\n",
            "789,465.31,73.23,507.18,29.62,20.14,80.86\n",
            "790,431.26,53.25,380.84,33.84,23.82,79.12\n",
            "791,347.68,66.08,508.22,37.25,21.34,82.6\n",
            "792,156.05,59.99,489.75,28.91,21.13,77.78\n",
            "793,489.39,72.05,426.38,37.57,19.62,77.91\n",
            "794,362.73,69.28,482.62,29.94,19.3,77.62\n",
            "795,421.39,55.97,451.86,29.25,18.96,76.11\n",
            "796,572.9,59.42,502.12,36.12,19.7,82.48\n",
            "797,460.78,64.28,560.54,31.2,15.11,78.02\n",
            "798,499.75,67.2,536.88,30.68,17.57,79.96\n",
            "799,453.78,58.24,442.83,26.21,20.58,77.26\n",
            "\n"
          ]
        }
      ]
    },
    {
      "cell_type": "code",
      "metadata": {
        "id": "uO0UzxcKRPuP"
      },
      "source": [
        "import tensorflow as tf\n",
        "from tensorflow import keras\n",
        "from tensorflow.keras import layers"
      ],
      "execution_count": null,
      "outputs": []
    },
    {
      "cell_type": "code",
      "metadata": {
        "id": "U85j7SgtcsBN"
      },
      "source": [
        "#DataNormalization for DeepLearning - doesnt help\n",
        "#dataToNorm=data_.copy()\n",
        "#dataScaled=scaler.fit(dataToNorm)\n",
        "#X2=dataToNorm.drop(columns=[\"RYTHM\",\"ILLUM\",\"HUMID\"])\n",
        "#y2=dataToNorm[\"RYTHM\"]\n",
        "#X_train2, X_test2, Y_train2, Y_test2 = train_test_split (X2, y2, test_size = 0.20, random_state=10)\n",
        "#scaler=StandardScaler().fit(X_train)\n",
        "#X_train2=scaler.transform(X_train2)"
      ],
      "execution_count": null,
      "outputs": []
    },
    {
      "cell_type": "code",
      "metadata": {
        "colab": {
          "base_uri": "https://localhost:8080/",
          "height": 268
        },
        "id": "NTJjb_UQRtdr",
        "outputId": "5f7b6ad5-e2b6-4ce7-8148-b4c4804d4cac"
      },
      "source": [
        "#dense 64,64 mejoro el modelo...se agrego 2 layers mas\n",
        "model = keras.Sequential([\n",
        "    #layers.Normalization(),\n",
        "    layers.Dense(4, activation='relu', input_dim=4),\n",
        "    layers.BatchNormalization(),\n",
        "    #layers.Dropout(0.3),    \n",
        "    #layers.Dense(3, activation='relu'),\n",
        "    #layers.Dropout(0.3),\n",
        "    #layers.BatchNormalization(),\n",
        "    #layers.Dense(64, activation='relu'),\n",
        "    #layers.Dropout(0.3),\n",
        "    #layers.BatchNormalization(),\n",
        "    #layers.Dense(64, activation='relu'),\n",
        "    #layers.Dropout(0.3),\n",
        "    #layers.BatchNormalization(),\n",
        "    #layers.Dense(64, activation='relu'),\n",
        "    #layers.Dropout(0.3),\n",
        "    #layers.BatchNormalization(),\n",
        "    layers.Dense(1),\n",
        "])\n",
        "\n",
        "model.compile(\n",
        "    optimizer='adam',\n",
        "    loss='mse',\n",
        "    metrics=[keras.metrics.MeanSquaredError()]\n",
        ")\n",
        "\n",
        "early_stopping = keras.callbacks.EarlyStopping(\n",
        "    patience=10,\n",
        "    monitor='val_loss'\n",
        ")\n",
        "\n",
        "history = model.fit(\n",
        "    X_train, Y_train,\n",
        "    validation_data=(X_test, Y_test),\n",
        "    batch_size=20,\n",
        "    epochs=100,\n",
        "    verbose=0,\n",
        ")\n",
        "\n",
        "# Show the learning curves\n",
        "history_df = pd.DataFrame(history.history)\n",
        "history_df.loc[:, ['loss', 'val_loss']].plot();"
      ],
      "execution_count": null,
      "outputs": [
        {
          "output_type": "display_data",
          "data": {
            "image/png": "[encoded data removed]",
            "text/plain": [
              "<Figure size 432x288 with 1 Axes>"
            ]
          },
          "metadata": {}
        }
      ]
    },
    {
      "cell_type": "code",
      "metadata": {
        "colab": {
          "base_uri": "https://localhost:8080/",
          "height": 165
        },
        "id": "9d8FH6vGLXfY",
        "outputId": "2f4081a9-61ad-4ad4-f06a-75fd36315e88"
      },
      "source": [
        "history_df.tail()"
      ],
      "execution_count": null,
      "outputs": [
        {
          "output_type": "error",
          "ename": "NameError",
          "evalue": "ignored",
          "traceback": [
            "\u001b[0;31m---------------------------------------------------------------------------\u001b[0m",
            "\u001b[0;31mNameError\u001b[0m                                 Traceback (most recent call last)",
            "\u001b[0;32m<ipython-input-1-6a81bf0dd041>\u001b[0m in \u001b[0;36m<module>\u001b[0;34m()\u001b[0m\n\u001b[0;32m----> 1\u001b[0;31m \u001b[0mhistory_df\u001b[0m\u001b[0;34m.\u001b[0m\u001b[0mtail\u001b[0m\u001b[0;34m(\u001b[0m\u001b[0;34m)\u001b[0m\u001b[0;34m\u001b[0m\u001b[0;34m\u001b[0m\u001b[0m\n\u001b[0m",
            "\u001b[0;31mNameError\u001b[0m: name 'history_df' is not defined"
          ]
        }
      ]
    },
    {
      "cell_type": "code",
      "metadata": {
        "colab": {
          "base_uri": "https://localhost:8080/"
        },
        "id": "8YEV_YELXEFB",
        "outputId": "3b5a1621-4280-4d76-fd88-92cb105c51b6"
      },
      "source": [
        "eval_train = model.evaluate(X_train, Y_train)"
      ],
      "execution_count": null,
      "outputs": [
        {
          "output_type": "stream",
          "name": "stdout",
          "text": [
            "85/85 [==============================] - 0s 3ms/step - loss: 36.7352 - mean_squared_error: 36.7352\n"
          ]
        }
      ]
    },
    {
      "cell_type": "code",
      "metadata": {
        "colab": {
          "base_uri": "https://localhost:8080/"
        },
        "id": "-uWd-fiOZSqn",
        "outputId": "d63efe2b-9c9e-4e41-bd13-76b9797dcd0b"
      },
      "source": [
        "eval_test = model.evaluate(X_test, Y_test)"
      ],
      "execution_count": null,
      "outputs": [
        {
          "output_type": "stream",
          "name": "stdout",
          "text": [
            "15/15 [==============================] - 0s 3ms/step - loss: 37.3920 - mean_squared_error: 37.3920\n"
          ]
        }
      ]
    },
    {
      "cell_type": "code",
      "metadata": {
        "colab": {
          "base_uri": "https://localhost:8080/"
        },
        "id": "bdSEQ99nZ0_m",
        "outputId": "31db7d0f-ced8-4d37-e8e5-f4e517b7471f"
      },
      "source": [
        "from sklearn.metrics import r2_score\n",
        "y_train_pred=model.predict(X_train)\n",
        "y_test_pred=model.predict(X_test)\n",
        "print(\"R2 score on train test: \\t{}\".format(r2_score(Y_train,y_train_pred)))\n",
        "print(\"R2 score on test test: \\t{}\".format(r2_score(Y_test,y_test_pred)))"
      ],
      "execution_count": null,
      "outputs": [
        {
          "output_type": "stream",
          "name": "stdout",
          "text": [
            "R2 score on train test: \t0.19210188925277305\n",
            "R2 score on test test: \t0.19548554799555895\n"
          ]
        }
      ]
    },
    {
      "cell_type": "code",
      "metadata": {
        "id": "atpghnDZeQEo"
      },
      "source": [
        "#sns.scatterplot(x=lis,y=Y_test)"
      ],
      "execution_count": null,
      "outputs": []
    },
    {
      "cell_type": "code",
      "metadata": {
        "colab": {
          "base_uri": "https://localhost:8080/"
        },
        "id": "VMGZtEiUg4Mm",
        "outputId": "fc0b5856-de18-478d-c93f-c9020cc4bebc"
      },
      "source": [
        "\n",
        "y_test_pred"
      ],
      "execution_count": null,
      "outputs": [
        {
          "output_type": "execute_result",
          "data": {
            "text/plain": [
              "80.52896"
            ]
          },
          "metadata": {},
          "execution_count": 133
        }
      ]
    },
    {
      "cell_type": "code",
      "metadata": {
        "id": "AaORr_oJejRi"
      },
      "source": [
        "lis=[]\n",
        "for i in range(len(y_test_pred)):\n",
        "  lis.append(y_test_pred[i][0])\n",
        "#lis"
      ],
      "execution_count": null,
      "outputs": []
    },
    {
      "cell_type": "code",
      "metadata": {
        "id": "VV60jXirfsNC"
      },
      "source": [
        "#Y_test"
      ],
      "execution_count": null,
      "outputs": []
    },
    {
      "cell_type": "code",
      "metadata": {
        "id": "nZnAYk5EfNtR"
      },
      "source": [
        "#lis"
      ],
      "execution_count": null,
      "outputs": []
    }
  ]
}